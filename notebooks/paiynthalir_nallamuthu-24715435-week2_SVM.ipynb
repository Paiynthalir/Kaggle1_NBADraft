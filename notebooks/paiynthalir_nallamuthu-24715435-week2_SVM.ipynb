{
 "cells": [
  {
   "cell_type": "markdown",
   "id": "3e660908-1570-4397-89a1-4d2e680af7a7",
   "metadata": {},
   "source": [
    "## SVC"
   ]
  },
  {
   "cell_type": "markdown",
   "id": "5a7e808e-1a44-4d33-a696-aa92508bd2ac",
   "metadata": {},
   "source": [
    "# 1. Loading the dataset"
   ]
  },
  {
   "cell_type": "code",
   "execution_count": 1,
   "id": "c501d5b9-c451-459d-9095-4c4e1b30ce0c",
   "metadata": {},
   "outputs": [],
   "source": [
    "# 1.1. Launch commands to automatically reload modules\n",
    "%load_ext autoreload\n",
    "%autoreload 2"
   ]
  },
  {
   "cell_type": "code",
   "execution_count": 2,
   "id": "b21daea4-e395-4838-8483-9f595e849935",
   "metadata": {},
   "outputs": [],
   "source": [
    "# 1.2. Import the packages\n",
    "import pandas as pd\n",
    "import numpy as np\n",
    "import matplotlib.pyplot as plt\n",
    "import altair as alt"
   ]
  },
  {
   "cell_type": "code",
   "execution_count": 3,
   "id": "17bdf214-23ae-42b4-85ff-13d3db62c837",
   "metadata": {},
   "outputs": [],
   "source": [
    "# 1.3. Load the training, validation and test datasets into a dataframes \n",
    "# Load the Parquet files into DataFrames\n",
    "X_train = pd.read_parquet('../data/processed/X_train_resampled.parquet')\n",
    "X_val = pd.read_parquet('../data/processed/X_val.parquet')\n",
    "y_train = pd.read_parquet('../data/processed/y_train_resampled.parquet')\n",
    "y_val = pd.read_parquet('../data/processed/y_val.parquet')\n",
    "X_test = pd.read_parquet('../data/processed/X_test_scaled.parquet')"
   ]
  },
  {
   "cell_type": "code",
   "execution_count": 4,
   "id": "ed4adca9-707a-4365-a298-89f275bfd2b6",
   "metadata": {},
   "outputs": [],
   "source": [
    "# taking out the player id out of the test data\n",
    "player_id_test = X_test.pop('player_id')"
   ]
  },
  {
   "cell_type": "code",
   "execution_count": 5,
   "id": "6bb02ea7-ce0f-4f96-b79c-060ac5bb069c",
   "metadata": {},
   "outputs": [
    {
     "data": {
      "text/plain": [
       "(9324,)"
      ]
     },
     "execution_count": 5,
     "metadata": {},
     "output_type": "execute_result"
    }
   ],
   "source": [
    "y_val = y_val.iloc[:, 0]  # Convert the single column DataFrame to a Series\n",
    "y_val.shape"
   ]
  },
  {
   "cell_type": "code",
   "execution_count": 6,
   "id": "0e1e7e8c-042e-4219-ae51-944c77fd170e",
   "metadata": {},
   "outputs": [
    {
     "data": {
      "text/plain": [
       "(73904,)"
      ]
     },
     "execution_count": 6,
     "metadata": {},
     "output_type": "execute_result"
    }
   ],
   "source": [
    "y_train = y_train.iloc[:, 0]  # Convert the single column DataFrame to a Series\n",
    "y_train.shape"
   ]
  },
  {
   "cell_type": "markdown",
   "id": "6359ec37-a412-49f3-92e9-4b917b94b978",
   "metadata": {},
   "source": [
    "## 3. Support Vector Machines - Modelling"
   ]
  },
  {
   "cell_type": "code",
   "execution_count": 7,
   "id": "6bcba061-3e5c-426d-ae05-fb6f31db8bd4",
   "metadata": {},
   "outputs": [],
   "source": [
    "#3.1 Import SVM and instantiate the model\n",
    "from sklearn.feature_selection import RFE\n",
    "from sklearn.svm import SVC\n",
    "\n",
    "# Initialize the SVM model\n",
    "svc1 = SVC(kernel='linear', probability=True)  \n"
   ]
  },
  {
   "cell_type": "code",
   "execution_count": null,
   "id": "4c2efe37-2fc4-49b5-ad8a-0014902a0271",
   "metadata": {},
   "outputs": [],
   "source": [
    "# 3.2 Train the model and save the predicted values\n",
    "svc1.fit(X_train, y_train)"
   ]
  },
  {
   "cell_type": "code",
   "execution_count": null,
   "id": "da35c4a9-3978-4dee-879d-04b68d24125d",
   "metadata": {},
   "outputs": [],
   "source": [
    "# Select the probability for the positive class (class 1)\n",
    "y_train_probs_svc1 = svc1.predict_proba(X_train)[:, 1]\n",
    "y_val_probs_svc1 = svc1.predict_proba(X_val)[:, 1]"
   ]
  },
  {
   "cell_type": "code",
   "execution_count": null,
   "id": "0b913609-69aa-49c4-b556-3704cfcb25b9",
   "metadata": {},
   "outputs": [],
   "source": [
    "# 3.3 To plot ROC curve and the AUC metric - for comparison of model performances\n",
    "from sklearn import metrics\n",
    "from sklearn.metrics import roc_auc_score\n",
    "#To plot ROC curve and the AUC metric\n",
    "\n",
    "# Set up plotting area\n",
    "plt.figure(0).clf()\n",
    "\n",
    "# SVM - Train\n",
    "fpr, tpr, _ = metrics.roc_curve(y_train, y_train_probs_svc1)\n",
    "auc = round(metrics.roc_auc_score(y_train, y_train_probs_svc1), 4)\n",
    "plt.plot(fpr, tpr, label=\"SVM Train, AUC=\"+str(auc))\n",
    "\n",
    "# SVM - Validation\n",
    "fpr, tpr, _ = metrics.roc_curve(y_val, y_val_probs_svc1)\n",
    "auc = round(metrics.roc_auc_score(y_val, y_val_probs_svc1), 4)\n",
    "plt.plot(fpr, tpr, label=\"SVM Val, AUC=\"+str(auc))\n",
    "\n",
    "# Add legend\n",
    "plt.legend()\n",
    "\n",
    "# Show the plot\n",
    "plt.xlabel(\"False Positive Rate\")\n",
    "plt.ylabel(\"True Positive Rate\")\n",
    "plt.title(\"ROC Curve\")\n",
    "plt.show()"
   ]
  },
  {
   "cell_type": "code",
   "execution_count": null,
   "id": "d586ddee-caa5-4955-b420-35e38fb589ff",
   "metadata": {},
   "outputs": [],
   "source": [
    "# 3.4 Save the probability of the test data\n",
    "y_test_probs_svc1 = svc1.predict_proba(X_test)[:, 1]\n"
   ]
  },
  {
   "cell_type": "code",
   "execution_count": null,
   "id": "91ec99fc-4253-4739-aebd-0ca3aada2caf",
   "metadata": {},
   "outputs": [],
   "source": [
    "# 3.5 add the 'player_id'column  into the prediction probability\n",
    "# Convert y_test_prob_rf3 (which is a NumPy array) to a DataFrame\n",
    "y_test_probs_df = pd.DataFrame(y_test_probs_svc1, columns=['drafted'])\n",
    "\n",
    "# Concatenate player_id_test and y_test_prob_df along the columns\n",
    "Results_1 = pd.concat([player_id_test, y_test_probs_df], axis=1)"
   ]
  },
  {
   "cell_type": "code",
   "execution_count": null,
   "id": "4f80be2b-dab7-41ec-88fb-6897329480a6",
   "metadata": {},
   "outputs": [],
   "source": [
    "Results_1"
   ]
  },
  {
   "cell_type": "code",
   "execution_count": null,
   "id": "3f6bef30-2ca1-4134-a4e7-3147acb2a6a6",
   "metadata": {},
   "outputs": [],
   "source": [
    "#3.6 save the probability as CSV file\n",
    "\n",
    "# Convert to DataFrame and save\n",
    "pd.DataFrame(Results_1).to_csv('../data/external/Linear_smote_SVM_Results.csv', index=False)\n",
    "\n",
    "\n",
    "#3.7 save the model\n",
    "# Import dump from joblib\n",
    "from joblib import dump\n",
    "\n",
    "# 3.12 Save the model and call the files respectively SVM.joblib \n",
    "dump(svc1, '../models/SVM_smote_linear.joblib')\n"
   ]
  },
  {
   "cell_type": "code",
   "execution_count": null,
   "id": "d11ffc06-16a1-43c5-9957-e12b7691ab93",
   "metadata": {},
   "outputs": [],
   "source": []
  }
 ],
 "metadata": {
  "kernelspec": {
   "display_name": "Python 3 (ipykernel)",
   "language": "python",
   "name": "python3"
  },
  "language_info": {
   "codemirror_mode": {
    "name": "ipython",
    "version": 3
   },
   "file_extension": ".py",
   "mimetype": "text/x-python",
   "name": "python",
   "nbconvert_exporter": "python",
   "pygments_lexer": "ipython3",
   "version": "3.11.5"
  }
 },
 "nbformat": 4,
 "nbformat_minor": 5
}
