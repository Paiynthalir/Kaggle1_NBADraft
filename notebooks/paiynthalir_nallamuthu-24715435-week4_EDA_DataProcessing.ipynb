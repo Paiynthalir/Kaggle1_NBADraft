{
 "cells": [
  {
   "cell_type": "markdown",
   "id": "f510a1fa-e1c4-435e-81de-9501f24d0987",
   "metadata": {},
   "source": [
    "1. Loading the dataset"
   ]
  },
  {
   "cell_type": "markdown",
   "id": "82a7c912-2875-46e3-b289-beaf0a7319fe",
   "metadata": {},
   "source": [
    "1.1. Launch commands to automatically reload modules"
   ]
  },
  {
   "cell_type": "code",
   "execution_count": 1,
   "id": "45777ecb-8957-4013-99e4-266adc6060fb",
   "metadata": {},
   "outputs": [],
   "source": [
    "%load_ext autoreload\n",
    "%autoreload 2"
   ]
  },
  {
   "cell_type": "markdown",
   "id": "7fa6f78b-6f05-4129-a577-638443896287",
   "metadata": {},
   "source": [
    "1.2. Import the packages"
   ]
  },
  {
   "cell_type": "code",
   "execution_count": 2,
   "id": "f5f4fec8-6f8c-431a-a468-ff1d5d8978ca",
   "metadata": {},
   "outputs": [],
   "source": [
    "import pandas as pd\n",
    "import numpy as np\n",
    "import matplotlib.pyplot as plt\n",
    "import seaborn as sns"
   ]
  },
  {
   "cell_type": "markdown",
   "id": "49b7d332-5667-4698-8cf0-382e15c4be49",
   "metadata": {},
   "source": [
    "1.3. Load the training and test dataset into a dataframes called df_train and df_test"
   ]
  },
  {
   "cell_type": "code",
   "execution_count": 3,
   "id": "520e476f-84aa-43d3-ba50-f5e5b948c690",
   "metadata": {},
   "outputs": [],
   "source": [
    "df_train = pd.read_csv('../data/raw/train.csv',low_memory=False)\n",
    "df_test = pd.read_csv('../data/raw/test.csv',low_memory=False)"
   ]
  },
  {
   "cell_type": "markdown",
   "id": "c45dd3b8-c62f-477a-bcbb-c611d7e57aba",
   "metadata": {},
   "source": [
    "2. Exploring the dataset"
   ]
  },
  {
   "cell_type": "code",
   "execution_count": 4,
   "id": "f51531dc-e9dc-40de-8db2-b32c1bf48abe",
   "metadata": {},
   "outputs": [
    {
     "data": {
      "text/plain": [
       "(46618, 64)"
      ]
     },
     "execution_count": 4,
     "metadata": {},
     "output_type": "execute_result"
    }
   ],
   "source": [
    "# Display the dimensions of training dataset\n",
    "df_train.shape"
   ]
  },
  {
   "cell_type": "code",
   "execution_count": 5,
   "id": "ed0e4ba7-b45b-425d-bd85-519b0d82b28d",
   "metadata": {},
   "outputs": [
    {
     "data": {
      "text/plain": [
       "(4970, 63)"
      ]
     },
     "execution_count": 5,
     "metadata": {},
     "output_type": "execute_result"
    }
   ],
   "source": [
    "# Display the dimensions of test dataset\n",
    "df_test.shape"
   ]
  },
  {
   "cell_type": "code",
   "execution_count": 6,
   "id": "f16d8907-a90a-4975-b1ff-836ce70e7dc4",
   "metadata": {},
   "outputs": [
    {
     "data": {
      "text/html": [
       "<div>\n",
       "<style scoped>\n",
       "    .dataframe tbody tr th:only-of-type {\n",
       "        vertical-align: middle;\n",
       "    }\n",
       "\n",
       "    .dataframe tbody tr th {\n",
       "        vertical-align: top;\n",
       "    }\n",
       "\n",
       "    .dataframe thead th {\n",
       "        text-align: right;\n",
       "    }\n",
       "</style>\n",
       "<table border=\"1\" class=\"dataframe\">\n",
       "  <thead>\n",
       "    <tr style=\"text-align: right;\">\n",
       "      <th></th>\n",
       "      <th>team</th>\n",
       "      <th>conf</th>\n",
       "      <th>GP</th>\n",
       "      <th>Min_per</th>\n",
       "      <th>Ortg</th>\n",
       "      <th>usg</th>\n",
       "      <th>eFG</th>\n",
       "      <th>TS_per</th>\n",
       "      <th>ORB_per</th>\n",
       "      <th>DRB_per</th>\n",
       "      <th>...</th>\n",
       "      <th>dgbpm</th>\n",
       "      <th>oreb</th>\n",
       "      <th>dreb</th>\n",
       "      <th>treb</th>\n",
       "      <th>ast</th>\n",
       "      <th>stl</th>\n",
       "      <th>blk</th>\n",
       "      <th>pts</th>\n",
       "      <th>player_id</th>\n",
       "      <th>drafted</th>\n",
       "    </tr>\n",
       "  </thead>\n",
       "  <tbody>\n",
       "    <tr>\n",
       "      <th>count</th>\n",
       "      <td>46618</td>\n",
       "      <td>46618</td>\n",
       "      <td>46618.000000</td>\n",
       "      <td>46618.000000</td>\n",
       "      <td>46618.000000</td>\n",
       "      <td>46618.000000</td>\n",
       "      <td>46618.000000</td>\n",
       "      <td>46618.000000</td>\n",
       "      <td>46618.000000</td>\n",
       "      <td>46618.000000</td>\n",
       "      <td>...</td>\n",
       "      <td>46576.000000</td>\n",
       "      <td>46582.000000</td>\n",
       "      <td>46582.000000</td>\n",
       "      <td>46582.000000</td>\n",
       "      <td>46582.000000</td>\n",
       "      <td>46582.000000</td>\n",
       "      <td>46582.000000</td>\n",
       "      <td>46582.000000</td>\n",
       "      <td>46618</td>\n",
       "      <td>46618.000000</td>\n",
       "    </tr>\n",
       "    <tr>\n",
       "      <th>unique</th>\n",
       "      <td>355</td>\n",
       "      <td>36</td>\n",
       "      <td>NaN</td>\n",
       "      <td>NaN</td>\n",
       "      <td>NaN</td>\n",
       "      <td>NaN</td>\n",
       "      <td>NaN</td>\n",
       "      <td>NaN</td>\n",
       "      <td>NaN</td>\n",
       "      <td>NaN</td>\n",
       "      <td>...</td>\n",
       "      <td>NaN</td>\n",
       "      <td>NaN</td>\n",
       "      <td>NaN</td>\n",
       "      <td>NaN</td>\n",
       "      <td>NaN</td>\n",
       "      <td>NaN</td>\n",
       "      <td>NaN</td>\n",
       "      <td>NaN</td>\n",
       "      <td>20377</td>\n",
       "      <td>NaN</td>\n",
       "    </tr>\n",
       "    <tr>\n",
       "      <th>top</th>\n",
       "      <td>Army</td>\n",
       "      <td>A10</td>\n",
       "      <td>NaN</td>\n",
       "      <td>NaN</td>\n",
       "      <td>NaN</td>\n",
       "      <td>NaN</td>\n",
       "      <td>NaN</td>\n",
       "      <td>NaN</td>\n",
       "      <td>NaN</td>\n",
       "      <td>NaN</td>\n",
       "      <td>...</td>\n",
       "      <td>NaN</td>\n",
       "      <td>NaN</td>\n",
       "      <td>NaN</td>\n",
       "      <td>NaN</td>\n",
       "      <td>NaN</td>\n",
       "      <td>NaN</td>\n",
       "      <td>NaN</td>\n",
       "      <td>NaN</td>\n",
       "      <td>2336a719-c648-440c-821d-32fb0d9760bf</td>\n",
       "      <td>NaN</td>\n",
       "    </tr>\n",
       "    <tr>\n",
       "      <th>freq</th>\n",
       "      <td>176</td>\n",
       "      <td>1880</td>\n",
       "      <td>NaN</td>\n",
       "      <td>NaN</td>\n",
       "      <td>NaN</td>\n",
       "      <td>NaN</td>\n",
       "      <td>NaN</td>\n",
       "      <td>NaN</td>\n",
       "      <td>NaN</td>\n",
       "      <td>NaN</td>\n",
       "      <td>...</td>\n",
       "      <td>NaN</td>\n",
       "      <td>NaN</td>\n",
       "      <td>NaN</td>\n",
       "      <td>NaN</td>\n",
       "      <td>NaN</td>\n",
       "      <td>NaN</td>\n",
       "      <td>NaN</td>\n",
       "      <td>NaN</td>\n",
       "      <td>6</td>\n",
       "      <td>NaN</td>\n",
       "    </tr>\n",
       "    <tr>\n",
       "      <th>mean</th>\n",
       "      <td>NaN</td>\n",
       "      <td>NaN</td>\n",
       "      <td>23.542988</td>\n",
       "      <td>37.339013</td>\n",
       "      <td>91.784360</td>\n",
       "      <td>18.164578</td>\n",
       "      <td>44.424392</td>\n",
       "      <td>47.571397</td>\n",
       "      <td>5.654071</td>\n",
       "      <td>12.575102</td>\n",
       "      <td>...</td>\n",
       "      <td>-0.463778</td>\n",
       "      <td>0.778630</td>\n",
       "      <td>1.867124</td>\n",
       "      <td>2.645755</td>\n",
       "      <td>1.066943</td>\n",
       "      <td>0.527743</td>\n",
       "      <td>0.283606</td>\n",
       "      <td>5.732429</td>\n",
       "      <td>NaN</td>\n",
       "      <td>0.009524</td>\n",
       "    </tr>\n",
       "    <tr>\n",
       "      <th>std</th>\n",
       "      <td>NaN</td>\n",
       "      <td>NaN</td>\n",
       "      <td>10.076829</td>\n",
       "      <td>28.019801</td>\n",
       "      <td>30.235568</td>\n",
       "      <td>6.181982</td>\n",
       "      <td>18.026404</td>\n",
       "      <td>17.217909</td>\n",
       "      <td>9.985025</td>\n",
       "      <td>11.041089</td>\n",
       "      <td>...</td>\n",
       "      <td>3.303826</td>\n",
       "      <td>0.745045</td>\n",
       "      <td>1.464894</td>\n",
       "      <td>2.096319</td>\n",
       "      <td>1.170469</td>\n",
       "      <td>0.469654</td>\n",
       "      <td>0.422755</td>\n",
       "      <td>4.942544</td>\n",
       "      <td>NaN</td>\n",
       "      <td>0.097127</td>\n",
       "    </tr>\n",
       "    <tr>\n",
       "      <th>min</th>\n",
       "      <td>NaN</td>\n",
       "      <td>NaN</td>\n",
       "      <td>1.000000</td>\n",
       "      <td>0.000000</td>\n",
       "      <td>0.000000</td>\n",
       "      <td>0.000000</td>\n",
       "      <td>0.000000</td>\n",
       "      <td>0.000000</td>\n",
       "      <td>0.000000</td>\n",
       "      <td>0.000000</td>\n",
       "      <td>...</td>\n",
       "      <td>-100.984000</td>\n",
       "      <td>0.000000</td>\n",
       "      <td>0.000000</td>\n",
       "      <td>0.000000</td>\n",
       "      <td>0.000000</td>\n",
       "      <td>0.000000</td>\n",
       "      <td>0.000000</td>\n",
       "      <td>0.000000</td>\n",
       "      <td>NaN</td>\n",
       "      <td>0.000000</td>\n",
       "    </tr>\n",
       "    <tr>\n",
       "      <th>25%</th>\n",
       "      <td>NaN</td>\n",
       "      <td>NaN</td>\n",
       "      <td>17.000000</td>\n",
       "      <td>9.600000</td>\n",
       "      <td>83.900000</td>\n",
       "      <td>14.600000</td>\n",
       "      <td>40.000000</td>\n",
       "      <td>43.770000</td>\n",
       "      <td>1.900000</td>\n",
       "      <td>8.400000</td>\n",
       "      <td>...</td>\n",
       "      <td>-1.747553</td>\n",
       "      <td>0.228600</td>\n",
       "      <td>0.681800</td>\n",
       "      <td>1.000000</td>\n",
       "      <td>0.217400</td>\n",
       "      <td>0.157900</td>\n",
       "      <td>0.000000</td>\n",
       "      <td>1.538500</td>\n",
       "      <td>NaN</td>\n",
       "      <td>0.000000</td>\n",
       "    </tr>\n",
       "    <tr>\n",
       "      <th>50%</th>\n",
       "      <td>NaN</td>\n",
       "      <td>NaN</td>\n",
       "      <td>28.000000</td>\n",
       "      <td>35.900000</td>\n",
       "      <td>97.000000</td>\n",
       "      <td>18.100000</td>\n",
       "      <td>47.500000</td>\n",
       "      <td>50.720000</td>\n",
       "      <td>4.500000</td>\n",
       "      <td>11.800000</td>\n",
       "      <td>...</td>\n",
       "      <td>-0.335180</td>\n",
       "      <td>0.550000</td>\n",
       "      <td>1.600000</td>\n",
       "      <td>2.235300</td>\n",
       "      <td>0.666700</td>\n",
       "      <td>0.419400</td>\n",
       "      <td>0.131600</td>\n",
       "      <td>4.428600</td>\n",
       "      <td>NaN</td>\n",
       "      <td>0.000000</td>\n",
       "    </tr>\n",
       "    <tr>\n",
       "      <th>75%</th>\n",
       "      <td>NaN</td>\n",
       "      <td>NaN</td>\n",
       "      <td>31.000000</td>\n",
       "      <td>62.200000</td>\n",
       "      <td>106.800000</td>\n",
       "      <td>21.800000</td>\n",
       "      <td>53.000000</td>\n",
       "      <td>55.947500</td>\n",
       "      <td>8.200000</td>\n",
       "      <td>15.900000</td>\n",
       "      <td>...</td>\n",
       "      <td>1.048375</td>\n",
       "      <td>1.129000</td>\n",
       "      <td>2.724100</td>\n",
       "      <td>3.806500</td>\n",
       "      <td>1.529000</td>\n",
       "      <td>0.793100</td>\n",
       "      <td>0.366700</td>\n",
       "      <td>9.033050</td>\n",
       "      <td>NaN</td>\n",
       "      <td>0.000000</td>\n",
       "    </tr>\n",
       "    <tr>\n",
       "      <th>max</th>\n",
       "      <td>NaN</td>\n",
       "      <td>NaN</td>\n",
       "      <td>41.000000</td>\n",
       "      <td>98.000000</td>\n",
       "      <td>834.000000</td>\n",
       "      <td>50.000000</td>\n",
       "      <td>150.000000</td>\n",
       "      <td>150.000000</td>\n",
       "      <td>1576.600000</td>\n",
       "      <td>1385.000000</td>\n",
       "      <td>...</td>\n",
       "      <td>78.985500</td>\n",
       "      <td>5.933300</td>\n",
       "      <td>11.545500</td>\n",
       "      <td>14.533300</td>\n",
       "      <td>10.000000</td>\n",
       "      <td>4.000000</td>\n",
       "      <td>5.258100</td>\n",
       "      <td>29.968800</td>\n",
       "      <td>NaN</td>\n",
       "      <td>1.000000</td>\n",
       "    </tr>\n",
       "  </tbody>\n",
       "</table>\n",
       "<p>11 rows × 64 columns</p>\n",
       "</div>"
      ],
      "text/plain": [
       "         team   conf            GP       Min_per          Ortg           usg  \\\n",
       "count   46618  46618  46618.000000  46618.000000  46618.000000  46618.000000   \n",
       "unique    355     36           NaN           NaN           NaN           NaN   \n",
       "top      Army    A10           NaN           NaN           NaN           NaN   \n",
       "freq      176   1880           NaN           NaN           NaN           NaN   \n",
       "mean      NaN    NaN     23.542988     37.339013     91.784360     18.164578   \n",
       "std       NaN    NaN     10.076829     28.019801     30.235568      6.181982   \n",
       "min       NaN    NaN      1.000000      0.000000      0.000000      0.000000   \n",
       "25%       NaN    NaN     17.000000      9.600000     83.900000     14.600000   \n",
       "50%       NaN    NaN     28.000000     35.900000     97.000000     18.100000   \n",
       "75%       NaN    NaN     31.000000     62.200000    106.800000     21.800000   \n",
       "max       NaN    NaN     41.000000     98.000000    834.000000     50.000000   \n",
       "\n",
       "                 eFG        TS_per       ORB_per       DRB_per  ...  \\\n",
       "count   46618.000000  46618.000000  46618.000000  46618.000000  ...   \n",
       "unique           NaN           NaN           NaN           NaN  ...   \n",
       "top              NaN           NaN           NaN           NaN  ...   \n",
       "freq             NaN           NaN           NaN           NaN  ...   \n",
       "mean       44.424392     47.571397      5.654071     12.575102  ...   \n",
       "std        18.026404     17.217909      9.985025     11.041089  ...   \n",
       "min         0.000000      0.000000      0.000000      0.000000  ...   \n",
       "25%        40.000000     43.770000      1.900000      8.400000  ...   \n",
       "50%        47.500000     50.720000      4.500000     11.800000  ...   \n",
       "75%        53.000000     55.947500      8.200000     15.900000  ...   \n",
       "max       150.000000    150.000000   1576.600000   1385.000000  ...   \n",
       "\n",
       "               dgbpm          oreb          dreb          treb           ast  \\\n",
       "count   46576.000000  46582.000000  46582.000000  46582.000000  46582.000000   \n",
       "unique           NaN           NaN           NaN           NaN           NaN   \n",
       "top              NaN           NaN           NaN           NaN           NaN   \n",
       "freq             NaN           NaN           NaN           NaN           NaN   \n",
       "mean       -0.463778      0.778630      1.867124      2.645755      1.066943   \n",
       "std         3.303826      0.745045      1.464894      2.096319      1.170469   \n",
       "min      -100.984000      0.000000      0.000000      0.000000      0.000000   \n",
       "25%        -1.747553      0.228600      0.681800      1.000000      0.217400   \n",
       "50%        -0.335180      0.550000      1.600000      2.235300      0.666700   \n",
       "75%         1.048375      1.129000      2.724100      3.806500      1.529000   \n",
       "max        78.985500      5.933300     11.545500     14.533300     10.000000   \n",
       "\n",
       "                 stl           blk           pts  \\\n",
       "count   46582.000000  46582.000000  46582.000000   \n",
       "unique           NaN           NaN           NaN   \n",
       "top              NaN           NaN           NaN   \n",
       "freq             NaN           NaN           NaN   \n",
       "mean        0.527743      0.283606      5.732429   \n",
       "std         0.469654      0.422755      4.942544   \n",
       "min         0.000000      0.000000      0.000000   \n",
       "25%         0.157900      0.000000      1.538500   \n",
       "50%         0.419400      0.131600      4.428600   \n",
       "75%         0.793100      0.366700      9.033050   \n",
       "max         4.000000      5.258100     29.968800   \n",
       "\n",
       "                                   player_id       drafted  \n",
       "count                                  46618  46618.000000  \n",
       "unique                                 20377           NaN  \n",
       "top     2336a719-c648-440c-821d-32fb0d9760bf           NaN  \n",
       "freq                                       6           NaN  \n",
       "mean                                     NaN      0.009524  \n",
       "std                                      NaN      0.097127  \n",
       "min                                      NaN      0.000000  \n",
       "25%                                      NaN      0.000000  \n",
       "50%                                      NaN      0.000000  \n",
       "75%                                      NaN      0.000000  \n",
       "max                                      NaN      1.000000  \n",
       "\n",
       "[11 rows x 64 columns]"
      ]
     },
     "execution_count": 6,
     "metadata": {},
     "output_type": "execute_result"
    }
   ],
   "source": [
    "#Display the descriptive statistics of training dataset\n",
    "df_train.describe(include='all')"
   ]
  },
  {
   "cell_type": "code",
   "execution_count": 7,
   "id": "93fc368d-051c-4ce7-9fee-b800b870bbe3",
   "metadata": {},
   "outputs": [
    {
     "data": {
      "text/html": [
       "<div>\n",
       "<style scoped>\n",
       "    .dataframe tbody tr th:only-of-type {\n",
       "        vertical-align: middle;\n",
       "    }\n",
       "\n",
       "    .dataframe tbody tr th {\n",
       "        vertical-align: top;\n",
       "    }\n",
       "\n",
       "    .dataframe thead th {\n",
       "        text-align: right;\n",
       "    }\n",
       "</style>\n",
       "<table border=\"1\" class=\"dataframe\">\n",
       "  <thead>\n",
       "    <tr style=\"text-align: right;\">\n",
       "      <th></th>\n",
       "      <th>team</th>\n",
       "      <th>conf</th>\n",
       "      <th>GP</th>\n",
       "      <th>Min_per</th>\n",
       "      <th>Ortg</th>\n",
       "      <th>usg</th>\n",
       "      <th>eFG</th>\n",
       "      <th>TS_per</th>\n",
       "      <th>ORB_per</th>\n",
       "      <th>DRB_per</th>\n",
       "      <th>...</th>\n",
       "      <th>ogbpm</th>\n",
       "      <th>dgbpm</th>\n",
       "      <th>oreb</th>\n",
       "      <th>dreb</th>\n",
       "      <th>treb</th>\n",
       "      <th>ast</th>\n",
       "      <th>stl</th>\n",
       "      <th>blk</th>\n",
       "      <th>pts</th>\n",
       "      <th>player_id</th>\n",
       "    </tr>\n",
       "  </thead>\n",
       "  <tbody>\n",
       "    <tr>\n",
       "      <th>count</th>\n",
       "      <td>4970</td>\n",
       "      <td>4970</td>\n",
       "      <td>4970.000000</td>\n",
       "      <td>4970.000000</td>\n",
       "      <td>4970.000000</td>\n",
       "      <td>4970.000000</td>\n",
       "      <td>4970.000000</td>\n",
       "      <td>4970.000000</td>\n",
       "      <td>4970.000000</td>\n",
       "      <td>4970.000000</td>\n",
       "      <td>...</td>\n",
       "      <td>4969.000000</td>\n",
       "      <td>4969.000000</td>\n",
       "      <td>4970.000000</td>\n",
       "      <td>4970.000000</td>\n",
       "      <td>4970.000000</td>\n",
       "      <td>4970.000000</td>\n",
       "      <td>4970.000000</td>\n",
       "      <td>4970.000000</td>\n",
       "      <td>4970.000000</td>\n",
       "      <td>4970</td>\n",
       "    </tr>\n",
       "    <tr>\n",
       "      <th>unique</th>\n",
       "      <td>347</td>\n",
       "      <td>31</td>\n",
       "      <td>NaN</td>\n",
       "      <td>NaN</td>\n",
       "      <td>NaN</td>\n",
       "      <td>NaN</td>\n",
       "      <td>NaN</td>\n",
       "      <td>NaN</td>\n",
       "      <td>NaN</td>\n",
       "      <td>NaN</td>\n",
       "      <td>...</td>\n",
       "      <td>NaN</td>\n",
       "      <td>NaN</td>\n",
       "      <td>NaN</td>\n",
       "      <td>NaN</td>\n",
       "      <td>NaN</td>\n",
       "      <td>NaN</td>\n",
       "      <td>NaN</td>\n",
       "      <td>NaN</td>\n",
       "      <td>NaN</td>\n",
       "      <td>4970</td>\n",
       "    </tr>\n",
       "    <tr>\n",
       "      <th>top</th>\n",
       "      <td>Morgan St.</td>\n",
       "      <td>ACC</td>\n",
       "      <td>NaN</td>\n",
       "      <td>NaN</td>\n",
       "      <td>NaN</td>\n",
       "      <td>NaN</td>\n",
       "      <td>NaN</td>\n",
       "      <td>NaN</td>\n",
       "      <td>NaN</td>\n",
       "      <td>NaN</td>\n",
       "      <td>...</td>\n",
       "      <td>NaN</td>\n",
       "      <td>NaN</td>\n",
       "      <td>NaN</td>\n",
       "      <td>NaN</td>\n",
       "      <td>NaN</td>\n",
       "      <td>NaN</td>\n",
       "      <td>NaN</td>\n",
       "      <td>NaN</td>\n",
       "      <td>NaN</td>\n",
       "      <td>00a16405-e17f-4b19-b7c0-c2de73b8361d</td>\n",
       "    </tr>\n",
       "    <tr>\n",
       "      <th>freq</th>\n",
       "      <td>19</td>\n",
       "      <td>230</td>\n",
       "      <td>NaN</td>\n",
       "      <td>NaN</td>\n",
       "      <td>NaN</td>\n",
       "      <td>NaN</td>\n",
       "      <td>NaN</td>\n",
       "      <td>NaN</td>\n",
       "      <td>NaN</td>\n",
       "      <td>NaN</td>\n",
       "      <td>...</td>\n",
       "      <td>NaN</td>\n",
       "      <td>NaN</td>\n",
       "      <td>NaN</td>\n",
       "      <td>NaN</td>\n",
       "      <td>NaN</td>\n",
       "      <td>NaN</td>\n",
       "      <td>NaN</td>\n",
       "      <td>NaN</td>\n",
       "      <td>NaN</td>\n",
       "      <td>1</td>\n",
       "    </tr>\n",
       "    <tr>\n",
       "      <th>mean</th>\n",
       "      <td>NaN</td>\n",
       "      <td>NaN</td>\n",
       "      <td>15.865795</td>\n",
       "      <td>34.906881</td>\n",
       "      <td>89.500644</td>\n",
       "      <td>17.867626</td>\n",
       "      <td>43.657203</td>\n",
       "      <td>46.538342</td>\n",
       "      <td>5.168390</td>\n",
       "      <td>13.048753</td>\n",
       "      <td>...</td>\n",
       "      <td>-2.149284</td>\n",
       "      <td>-0.526065</td>\n",
       "      <td>0.697025</td>\n",
       "      <td>1.953592</td>\n",
       "      <td>2.650609</td>\n",
       "      <td>1.069840</td>\n",
       "      <td>0.529118</td>\n",
       "      <td>0.260375</td>\n",
       "      <td>5.753262</td>\n",
       "      <td>NaN</td>\n",
       "    </tr>\n",
       "    <tr>\n",
       "      <th>std</th>\n",
       "      <td>NaN</td>\n",
       "      <td>NaN</td>\n",
       "      <td>8.276655</td>\n",
       "      <td>27.921356</td>\n",
       "      <td>35.338827</td>\n",
       "      <td>6.780159</td>\n",
       "      <td>20.716630</td>\n",
       "      <td>19.992005</td>\n",
       "      <td>7.030561</td>\n",
       "      <td>9.248595</td>\n",
       "      <td>...</td>\n",
       "      <td>6.750792</td>\n",
       "      <td>3.920493</td>\n",
       "      <td>0.683636</td>\n",
       "      <td>1.533018</td>\n",
       "      <td>2.073589</td>\n",
       "      <td>1.153074</td>\n",
       "      <td>0.474838</td>\n",
       "      <td>0.380465</td>\n",
       "      <td>4.881835</td>\n",
       "      <td>NaN</td>\n",
       "    </tr>\n",
       "    <tr>\n",
       "      <th>min</th>\n",
       "      <td>NaN</td>\n",
       "      <td>NaN</td>\n",
       "      <td>1.000000</td>\n",
       "      <td>0.100000</td>\n",
       "      <td>0.000000</td>\n",
       "      <td>0.000000</td>\n",
       "      <td>0.000000</td>\n",
       "      <td>0.000000</td>\n",
       "      <td>0.000000</td>\n",
       "      <td>0.000000</td>\n",
       "      <td>...</td>\n",
       "      <td>-62.101300</td>\n",
       "      <td>-31.594500</td>\n",
       "      <td>0.000000</td>\n",
       "      <td>0.000000</td>\n",
       "      <td>0.000000</td>\n",
       "      <td>0.000000</td>\n",
       "      <td>0.000000</td>\n",
       "      <td>0.000000</td>\n",
       "      <td>0.000000</td>\n",
       "      <td>NaN</td>\n",
       "    </tr>\n",
       "    <tr>\n",
       "      <th>25%</th>\n",
       "      <td>NaN</td>\n",
       "      <td>NaN</td>\n",
       "      <td>9.000000</td>\n",
       "      <td>6.700000</td>\n",
       "      <td>80.900000</td>\n",
       "      <td>14.200000</td>\n",
       "      <td>38.400000</td>\n",
       "      <td>42.340000</td>\n",
       "      <td>1.400000</td>\n",
       "      <td>8.400000</td>\n",
       "      <td>...</td>\n",
       "      <td>-4.443960</td>\n",
       "      <td>-1.868180</td>\n",
       "      <td>0.200000</td>\n",
       "      <td>0.750000</td>\n",
       "      <td>1.000000</td>\n",
       "      <td>0.250000</td>\n",
       "      <td>0.142900</td>\n",
       "      <td>0.000000</td>\n",
       "      <td>1.602175</td>\n",
       "      <td>NaN</td>\n",
       "    </tr>\n",
       "    <tr>\n",
       "      <th>50%</th>\n",
       "      <td>NaN</td>\n",
       "      <td>NaN</td>\n",
       "      <td>17.000000</td>\n",
       "      <td>32.350000</td>\n",
       "      <td>96.800000</td>\n",
       "      <td>18.000000</td>\n",
       "      <td>48.100000</td>\n",
       "      <td>50.850000</td>\n",
       "      <td>3.700000</td>\n",
       "      <td>12.300000</td>\n",
       "      <td>...</td>\n",
       "      <td>-1.540360</td>\n",
       "      <td>-0.397400</td>\n",
       "      <td>0.500000</td>\n",
       "      <td>1.666700</td>\n",
       "      <td>2.260900</td>\n",
       "      <td>0.680000</td>\n",
       "      <td>0.428600</td>\n",
       "      <td>0.133300</td>\n",
       "      <td>4.535900</td>\n",
       "      <td>NaN</td>\n",
       "    </tr>\n",
       "    <tr>\n",
       "      <th>75%</th>\n",
       "      <td>NaN</td>\n",
       "      <td>NaN</td>\n",
       "      <td>22.000000</td>\n",
       "      <td>59.900000</td>\n",
       "      <td>107.100000</td>\n",
       "      <td>21.800000</td>\n",
       "      <td>54.000000</td>\n",
       "      <td>56.780000</td>\n",
       "      <td>7.400000</td>\n",
       "      <td>16.800000</td>\n",
       "      <td>...</td>\n",
       "      <td>1.103500</td>\n",
       "      <td>1.049540</td>\n",
       "      <td>1.000000</td>\n",
       "      <td>2.882400</td>\n",
       "      <td>3.800000</td>\n",
       "      <td>1.533300</td>\n",
       "      <td>0.807700</td>\n",
       "      <td>0.333300</td>\n",
       "      <td>9.000000</td>\n",
       "      <td>NaN</td>\n",
       "    </tr>\n",
       "    <tr>\n",
       "      <th>max</th>\n",
       "      <td>NaN</td>\n",
       "      <td>NaN</td>\n",
       "      <td>33.000000</td>\n",
       "      <td>96.000000</td>\n",
       "      <td>391.200000</td>\n",
       "      <td>48.200000</td>\n",
       "      <td>150.000000</td>\n",
       "      <td>150.000000</td>\n",
       "      <td>231.800000</td>\n",
       "      <td>121.100000</td>\n",
       "      <td>...</td>\n",
       "      <td>160.805000</td>\n",
       "      <td>71.811500</td>\n",
       "      <td>5.148100</td>\n",
       "      <td>10.681800</td>\n",
       "      <td>15.000000</td>\n",
       "      <td>8.400000</td>\n",
       "      <td>3.565200</td>\n",
       "      <td>3.640000</td>\n",
       "      <td>25.333300</td>\n",
       "      <td>NaN</td>\n",
       "    </tr>\n",
       "  </tbody>\n",
       "</table>\n",
       "<p>11 rows × 63 columns</p>\n",
       "</div>"
      ],
      "text/plain": [
       "              team  conf           GP      Min_per         Ortg          usg  \\\n",
       "count         4970  4970  4970.000000  4970.000000  4970.000000  4970.000000   \n",
       "unique         347    31          NaN          NaN          NaN          NaN   \n",
       "top     Morgan St.   ACC          NaN          NaN          NaN          NaN   \n",
       "freq            19   230          NaN          NaN          NaN          NaN   \n",
       "mean           NaN   NaN    15.865795    34.906881    89.500644    17.867626   \n",
       "std            NaN   NaN     8.276655    27.921356    35.338827     6.780159   \n",
       "min            NaN   NaN     1.000000     0.100000     0.000000     0.000000   \n",
       "25%            NaN   NaN     9.000000     6.700000    80.900000    14.200000   \n",
       "50%            NaN   NaN    17.000000    32.350000    96.800000    18.000000   \n",
       "75%            NaN   NaN    22.000000    59.900000   107.100000    21.800000   \n",
       "max            NaN   NaN    33.000000    96.000000   391.200000    48.200000   \n",
       "\n",
       "                eFG       TS_per      ORB_per      DRB_per  ...        ogbpm  \\\n",
       "count   4970.000000  4970.000000  4970.000000  4970.000000  ...  4969.000000   \n",
       "unique          NaN          NaN          NaN          NaN  ...          NaN   \n",
       "top             NaN          NaN          NaN          NaN  ...          NaN   \n",
       "freq            NaN          NaN          NaN          NaN  ...          NaN   \n",
       "mean      43.657203    46.538342     5.168390    13.048753  ...    -2.149284   \n",
       "std       20.716630    19.992005     7.030561     9.248595  ...     6.750792   \n",
       "min        0.000000     0.000000     0.000000     0.000000  ...   -62.101300   \n",
       "25%       38.400000    42.340000     1.400000     8.400000  ...    -4.443960   \n",
       "50%       48.100000    50.850000     3.700000    12.300000  ...    -1.540360   \n",
       "75%       54.000000    56.780000     7.400000    16.800000  ...     1.103500   \n",
       "max      150.000000   150.000000   231.800000   121.100000  ...   160.805000   \n",
       "\n",
       "              dgbpm         oreb         dreb         treb          ast  \\\n",
       "count   4969.000000  4970.000000  4970.000000  4970.000000  4970.000000   \n",
       "unique          NaN          NaN          NaN          NaN          NaN   \n",
       "top             NaN          NaN          NaN          NaN          NaN   \n",
       "freq            NaN          NaN          NaN          NaN          NaN   \n",
       "mean      -0.526065     0.697025     1.953592     2.650609     1.069840   \n",
       "std        3.920493     0.683636     1.533018     2.073589     1.153074   \n",
       "min      -31.594500     0.000000     0.000000     0.000000     0.000000   \n",
       "25%       -1.868180     0.200000     0.750000     1.000000     0.250000   \n",
       "50%       -0.397400     0.500000     1.666700     2.260900     0.680000   \n",
       "75%        1.049540     1.000000     2.882400     3.800000     1.533300   \n",
       "max       71.811500     5.148100    10.681800    15.000000     8.400000   \n",
       "\n",
       "                stl          blk          pts  \\\n",
       "count   4970.000000  4970.000000  4970.000000   \n",
       "unique          NaN          NaN          NaN   \n",
       "top             NaN          NaN          NaN   \n",
       "freq            NaN          NaN          NaN   \n",
       "mean       0.529118     0.260375     5.753262   \n",
       "std        0.474838     0.380465     4.881835   \n",
       "min        0.000000     0.000000     0.000000   \n",
       "25%        0.142900     0.000000     1.602175   \n",
       "50%        0.428600     0.133300     4.535900   \n",
       "75%        0.807700     0.333300     9.000000   \n",
       "max        3.565200     3.640000    25.333300   \n",
       "\n",
       "                                   player_id  \n",
       "count                                   4970  \n",
       "unique                                  4970  \n",
       "top     00a16405-e17f-4b19-b7c0-c2de73b8361d  \n",
       "freq                                       1  \n",
       "mean                                     NaN  \n",
       "std                                      NaN  \n",
       "min                                      NaN  \n",
       "25%                                      NaN  \n",
       "50%                                      NaN  \n",
       "75%                                      NaN  \n",
       "max                                      NaN  \n",
       "\n",
       "[11 rows x 63 columns]"
      ]
     },
     "execution_count": 7,
     "metadata": {},
     "output_type": "execute_result"
    }
   ],
   "source": [
    "#Display the descriptive statistics of test dataset\n",
    "df_test.describe(include='all')"
   ]
  },
  {
   "cell_type": "code",
   "execution_count": 8,
   "id": "04fdbf36-b57b-476b-b738-7aebe1970873",
   "metadata": {},
   "outputs": [
    {
     "name": "stdout",
     "output_type": "stream",
     "text": [
      "<class 'pandas.core.frame.DataFrame'>\n",
      "RangeIndex: 46618 entries, 0 to 46617\n",
      "Data columns (total 64 columns):\n",
      " #   Column               Non-Null Count  Dtype  \n",
      "---  ------               --------------  -----  \n",
      " 0   team                 46618 non-null  object \n",
      " 1   conf                 46618 non-null  object \n",
      " 2   GP                   46618 non-null  int64  \n",
      " 3   Min_per              46618 non-null  float64\n",
      " 4   Ortg                 46618 non-null  float64\n",
      " 5   usg                  46618 non-null  float64\n",
      " 6   eFG                  46618 non-null  float64\n",
      " 7   TS_per               46618 non-null  float64\n",
      " 8   ORB_per              46618 non-null  float64\n",
      " 9   DRB_per              46618 non-null  float64\n",
      " 10  AST_per              46618 non-null  float64\n",
      " 11  TO_per               46618 non-null  float64\n",
      " 12  FTM                  46618 non-null  int64  \n",
      " 13  FTA                  46618 non-null  int64  \n",
      " 14  FT_per               46618 non-null  float64\n",
      " 15  twoPM                46618 non-null  int64  \n",
      " 16  twoPA                46618 non-null  int64  \n",
      " 17  twoP_per             46618 non-null  float64\n",
      " 18  TPM                  46618 non-null  int64  \n",
      " 19  TPA                  46618 non-null  int64  \n",
      " 20  TP_per               46618 non-null  float64\n",
      " 21  blk_per              46618 non-null  float64\n",
      " 22  stl_per              46618 non-null  float64\n",
      " 23  ftr                  46618 non-null  float64\n",
      " 24  yr                   46326 non-null  object \n",
      " 25  ht                   46554 non-null  object \n",
      " 26  num                  41939 non-null  object \n",
      " 27  porpag               46618 non-null  float64\n",
      " 28  adjoe                46618 non-null  float64\n",
      " 29  pfr                  46618 non-null  float64\n",
      " 30  year                 46618 non-null  int64  \n",
      " 31  type                 46618 non-null  object \n",
      " 32  Rec_Rank             14337 non-null  float64\n",
      " 33  ast_tov              43151 non-null  float64\n",
      " 34  rimmade              40860 non-null  float64\n",
      " 35  rimmade_rimmiss      40860 non-null  float64\n",
      " 36  midmade              40860 non-null  float64\n",
      " 37  midmade_midmiss      40860 non-null  float64\n",
      " 38  rim_ratio            38119 non-null  float64\n",
      " 39  mid_ratio            38050 non-null  float64\n",
      " 40  dunksmade            40860 non-null  float64\n",
      " 41  dunksmiss_dunksmade  40860 non-null  float64\n",
      " 42  dunks_ratio          20400 non-null  float64\n",
      " 43  pick                 1207 non-null   float64\n",
      " 44  drtg                 46576 non-null  float64\n",
      " 45  adrtg                46576 non-null  float64\n",
      " 46  dporpag              46576 non-null  float64\n",
      " 47  stops                46576 non-null  float64\n",
      " 48  bpm                  46576 non-null  float64\n",
      " 49  obpm                 46576 non-null  float64\n",
      " 50  dbpm                 46576 non-null  float64\n",
      " 51  gbpm                 46576 non-null  float64\n",
      " 52  mp                   46582 non-null  float64\n",
      " 53  ogbpm                46576 non-null  float64\n",
      " 54  dgbpm                46576 non-null  float64\n",
      " 55  oreb                 46582 non-null  float64\n",
      " 56  dreb                 46582 non-null  float64\n",
      " 57  treb                 46582 non-null  float64\n",
      " 58  ast                  46582 non-null  float64\n",
      " 59  stl                  46582 non-null  float64\n",
      " 60  blk                  46582 non-null  float64\n",
      " 61  pts                  46582 non-null  float64\n",
      " 62  player_id            46618 non-null  object \n",
      " 63  drafted              46618 non-null  float64\n",
      "dtypes: float64(49), int64(8), object(7)\n",
      "memory usage: 22.8+ MB\n"
     ]
    }
   ],
   "source": [
    "#summary of the training dataset\n",
    "df_train.info()"
   ]
  },
  {
   "cell_type": "code",
   "execution_count": 9,
   "id": "590291cd-c920-40f3-a15d-929aedab7fa7",
   "metadata": {},
   "outputs": [
    {
     "name": "stdout",
     "output_type": "stream",
     "text": [
      "<class 'pandas.core.frame.DataFrame'>\n",
      "RangeIndex: 4970 entries, 0 to 4969\n",
      "Data columns (total 63 columns):\n",
      " #   Column               Non-Null Count  Dtype  \n",
      "---  ------               --------------  -----  \n",
      " 0   team                 4970 non-null   object \n",
      " 1   conf                 4970 non-null   object \n",
      " 2   GP                   4970 non-null   int64  \n",
      " 3   Min_per              4970 non-null   float64\n",
      " 4   Ortg                 4970 non-null   float64\n",
      " 5   usg                  4970 non-null   float64\n",
      " 6   eFG                  4970 non-null   float64\n",
      " 7   TS_per               4970 non-null   float64\n",
      " 8   ORB_per              4970 non-null   float64\n",
      " 9   DRB_per              4970 non-null   float64\n",
      " 10  AST_per              4970 non-null   float64\n",
      " 11  TO_per               4970 non-null   float64\n",
      " 12  FTM                  4970 non-null   int64  \n",
      " 13  FTA                  4970 non-null   int64  \n",
      " 14  FT_per               4970 non-null   float64\n",
      " 15  twoPM                4970 non-null   int64  \n",
      " 16  twoPA                4970 non-null   int64  \n",
      " 17  twoP_per             4970 non-null   float64\n",
      " 18  TPM                  4970 non-null   int64  \n",
      " 19  TPA                  4970 non-null   int64  \n",
      " 20  TP_per               4970 non-null   float64\n",
      " 21  blk_per              4970 non-null   float64\n",
      " 22  stl_per              4970 non-null   float64\n",
      " 23  ftr                  4970 non-null   float64\n",
      " 24  yr                   4968 non-null   object \n",
      " 25  ht                   4957 non-null   object \n",
      " 26  num                  4874 non-null   float64\n",
      " 27  porpag               4970 non-null   float64\n",
      " 28  adjoe                4970 non-null   float64\n",
      " 29  pfr                  4970 non-null   float64\n",
      " 30  year                 4970 non-null   int64  \n",
      " 31  type                 4970 non-null   object \n",
      " 32  Rec_Rank             1434 non-null   float64\n",
      " 33  ast_tov              4433 non-null   float64\n",
      " 34  rimmade              4722 non-null   float64\n",
      " 35  rimmade_rimmiss      4722 non-null   float64\n",
      " 36  midmade              4722 non-null   float64\n",
      " 37  midmade_midmiss      4722 non-null   float64\n",
      " 38  rim_ratio            4324 non-null   float64\n",
      " 39  mid_ratio            4273 non-null   float64\n",
      " 40  dunksmade            4722 non-null   float64\n",
      " 41  dunksmiss_dunksmade  4722 non-null   float64\n",
      " 42  dunks_ratio          2253 non-null   float64\n",
      " 43  pick                 49 non-null     float64\n",
      " 44  drtg                 4969 non-null   float64\n",
      " 45  adrtg                4969 non-null   float64\n",
      " 46  dporpag              4969 non-null   float64\n",
      " 47  stops                4969 non-null   float64\n",
      " 48  bpm                  4969 non-null   float64\n",
      " 49  obpm                 4969 non-null   float64\n",
      " 50  dbpm                 4969 non-null   float64\n",
      " 51  gbpm                 4969 non-null   float64\n",
      " 52  mp                   4970 non-null   float64\n",
      " 53  ogbpm                4969 non-null   float64\n",
      " 54  dgbpm                4969 non-null   float64\n",
      " 55  oreb                 4970 non-null   float64\n",
      " 56  dreb                 4970 non-null   float64\n",
      " 57  treb                 4970 non-null   float64\n",
      " 58  ast                  4970 non-null   float64\n",
      " 59  stl                  4970 non-null   float64\n",
      " 60  blk                  4970 non-null   float64\n",
      " 61  pts                  4970 non-null   float64\n",
      " 62  player_id            4970 non-null   object \n",
      "dtypes: float64(49), int64(8), object(6)\n",
      "memory usage: 2.4+ MB\n"
     ]
    }
   ],
   "source": [
    "#summary of the test dataset\n",
    "df_test.info()"
   ]
  },
  {
   "cell_type": "code",
   "execution_count": 10,
   "id": "33f50fd8-1fcd-471b-9003-69d2dfc46e6b",
   "metadata": {},
   "outputs": [
    {
     "data": {
      "text/plain": [
       "np.int64(0)"
      ]
     },
     "execution_count": 10,
     "metadata": {},
     "output_type": "execute_result"
    }
   ],
   "source": [
    "#To see if there are duplicate rows in training data\n",
    "df_train.duplicated().sum()"
   ]
  },
  {
   "cell_type": "code",
   "execution_count": 11,
   "id": "3111ab0b-7d22-4638-82ff-f144ac422557",
   "metadata": {},
   "outputs": [
    {
     "data": {
      "text/plain": [
       "np.int64(0)"
      ]
     },
     "execution_count": 11,
     "metadata": {},
     "output_type": "execute_result"
    }
   ],
   "source": [
    "#To see if there are duplicate rows in test data\n",
    "df_test.duplicated().sum()"
   ]
  },
  {
   "cell_type": "raw",
   "id": "26c1e771-eaae-41f8-8d1a-4fefd81f073a",
   "metadata": {},
   "source": [
    "No duplicates were found. So need not remove the duplicated rows as part of data cleaning"
   ]
  },
  {
   "cell_type": "code",
   "execution_count": 12,
   "id": "dc560bdd-10f3-48d8-bde4-ab107c3dadc0",
   "metadata": {},
   "outputs": [
    {
     "data": {
      "text/plain": [
       "team          0\n",
       "conf          0\n",
       "GP            0\n",
       "Min_per       0\n",
       "Ortg          0\n",
       "             ..\n",
       "stl          36\n",
       "blk          36\n",
       "pts          36\n",
       "player_id     0\n",
       "drafted       0\n",
       "Length: 64, dtype: int64"
      ]
     },
     "execution_count": 12,
     "metadata": {},
     "output_type": "execute_result"
    }
   ],
   "source": [
    "#To see if there are null values in training data\n",
    "df_train.isna().sum()"
   ]
  },
  {
   "cell_type": "code",
   "execution_count": 13,
   "id": "3fc3ae74-f85f-46c8-b5f9-8227be355d1c",
   "metadata": {},
   "outputs": [
    {
     "data": {
      "text/plain": [
       "team         0\n",
       "conf         0\n",
       "GP           0\n",
       "Min_per      0\n",
       "Ortg         0\n",
       "            ..\n",
       "ast          0\n",
       "stl          0\n",
       "blk          0\n",
       "pts          0\n",
       "player_id    0\n",
       "Length: 63, dtype: int64"
      ]
     },
     "execution_count": 13,
     "metadata": {},
     "output_type": "execute_result"
    }
   ],
   "source": [
    "#To see if there are null values in test data\n",
    "df_test.isna().sum()"
   ]
  },
  {
   "cell_type": "code",
   "execution_count": 14,
   "id": "1907f4ba-cb0a-4c1a-b4c3-3f2912ad212b",
   "metadata": {},
   "outputs": [
    {
     "data": {
      "text/plain": [
       "<Axes: >"
      ]
     },
     "execution_count": 14,
     "metadata": {},
     "output_type": "execute_result"
    },
    {
     "data": {
      "image/png": "[encoded data removed]",
      "text/plain": [
       "<Figure size 640x480 with 1 Axes>"
      ]
     },
     "metadata": {},
     "output_type": "display_data"
    }
   ],
   "source": [
    "#explore the ftr column, since the meta data didn't describe of this column\n",
    "ftr_column = df_train[\"ftr\"]\n",
    "ftr_column.plot()"
   ]
  },
  {
   "cell_type": "code",
   "execution_count": 15,
   "id": "8ca31f5f-d341-4014-b82c-8deb8d84c600",
   "metadata": {},
   "outputs": [
    {
     "data": {
      "text/plain": [
       "<Axes: >"
      ]
     },
     "execution_count": 15,
     "metadata": {},
     "output_type": "execute_result"
    },
    {
     "data": {
      "image/png": "[encoded data removed]",
      "text/plain": [
       "<Figure size 640x480 with 1 Axes>"
      ]
     },
     "metadata": {},
     "output_type": "display_data"
    }
   ],
   "source": [
    "#explore the pfr column, since the meta data didn't describe of this column\n",
    "pfr_column = df_train[\"pfr\"]\n",
    "pfr_column.plot()"
   ]
  },
  {
   "cell_type": "code",
   "execution_count": 16,
   "id": "13ddd629-8ac9-4488-ac76-72dbfe754563",
   "metadata": {},
   "outputs": [
    {
     "data": {
      "text/plain": [
       "drafted\n",
       "0.0    0.990476\n",
       "1.0    0.009524\n",
       "Name: proportion, dtype: float64"
      ]
     },
     "execution_count": 16,
     "metadata": {},
     "output_type": "execute_result"
    }
   ],
   "source": [
    "# Count the frequency of Target=0 or 1\n",
    "df_train.value_counts('drafted',normalize=True)"
   ]
  },
  {
   "cell_type": "code",
   "execution_count": 17,
   "id": "d7118bc1-2ebf-4d8d-86bf-e6148e9b984f",
   "metadata": {},
   "outputs": [
    {
     "data": {
      "text/plain": [
       "<Axes: ylabel='Type'>"
      ]
     },
     "execution_count": 17,
     "metadata": {},
     "output_type": "execute_result"
    },
    {
     "data": {
      "image/png": "[encoded data removed]",
      "text/plain": [
       "<Figure size 640x480 with 1 Axes>"
      ]
     },
     "metadata": {},
     "output_type": "display_data"
    }
   ],
   "source": [
    "#Visualisation of target variable\n",
    "df_train.groupby('drafted').size().plot(kind='pie',\n",
    "                                       y = \"drafted\",\n",
    "                                       label = \"Type\",\n",
    "                                       autopct='%1.1f%%')"
   ]
  },
  {
   "cell_type": "markdown",
   "id": "a6c1c413-a8de-4a9b-8996-f2b8a12ff843",
   "metadata": {},
   "source": [
    "3. Data Preperation"
   ]
  },
  {
   "cell_type": "markdown",
   "id": "73cf3cb1-0312-4ece-bdba-cdef1bf69ade",
   "metadata": {},
   "source": [
    "3.1 Treating null values in the dataset"
   ]
  },
  {
   "cell_type": "code",
   "execution_count": 18,
   "id": "20820002-454f-41b6-bb55-a5869e3dab8a",
   "metadata": {},
   "outputs": [],
   "source": [
    "# copy the training dataframe to another dataframe which aims to be the cleaned dataset\n",
    "df_train_cleaned = df_train.copy()"
   ]
  },
  {
   "cell_type": "code",
   "execution_count": 19,
   "id": "3e379aeb-471c-408a-83bb-9ca40eb2e73b",
   "metadata": {},
   "outputs": [],
   "source": [
    "#copy the test dataframe to another dataframe which aims to be the cleaned dataset\n",
    "df_test_cleaned = df_test.copy()"
   ]
  },
  {
   "cell_type": "code",
   "execution_count": 20,
   "id": "2bd30786-8d7e-46ea-82e4-86ce8a6f289a",
   "metadata": {},
   "outputs": [],
   "source": [
    "# converting the 'num' column's data type to be uniform across test and training dataset\n",
    "df_train_cleaned['num'] = df_train_cleaned['num'].astype(str)\n",
    "df_test_cleaned['num'] = df_test_cleaned['num'].astype(str)"
   ]
  },
  {
   "cell_type": "code",
   "execution_count": 21,
   "id": "266cee1c-9e2a-4700-b1ea-aecd05e9d491",
   "metadata": {},
   "outputs": [
    {
     "data": {
      "text/plain": [
       "['yr',\n",
       " 'ht',\n",
       " 'Rec_Rank',\n",
       " 'ast_tov',\n",
       " 'rimmade',\n",
       " 'rimmade_rimmiss',\n",
       " 'midmade',\n",
       " 'midmade_midmiss',\n",
       " 'rim_ratio',\n",
       " 'mid_ratio',\n",
       " 'dunksmade',\n",
       " 'dunksmiss_dunksmade',\n",
       " 'dunks_ratio',\n",
       " 'pick',\n",
       " 'drtg',\n",
       " 'adrtg',\n",
       " 'dporpag',\n",
       " 'stops',\n",
       " 'bpm',\n",
       " 'obpm',\n",
       " 'dbpm',\n",
       " 'gbpm',\n",
       " 'mp',\n",
       " 'ogbpm',\n",
       " 'dgbpm',\n",
       " 'oreb',\n",
       " 'dreb',\n",
       " 'treb',\n",
       " 'ast',\n",
       " 'stl',\n",
       " 'blk',\n",
       " 'pts']"
      ]
     },
     "execution_count": 21,
     "metadata": {},
     "output_type": "execute_result"
    }
   ],
   "source": [
    "# Print the columns with missing values in training data\n",
    "[col for col in df_train_cleaned.columns if df_train_cleaned[col].isnull().any()]"
   ]
  },
  {
   "cell_type": "code",
   "execution_count": 22,
   "id": "68c5e545-4a86-4fa2-ac81-6c1a741f7db1",
   "metadata": {},
   "outputs": [
    {
     "data": {
      "text/plain": [
       "['yr',\n",
       " 'ht',\n",
       " 'Rec_Rank',\n",
       " 'ast_tov',\n",
       " 'rimmade',\n",
       " 'rimmade_rimmiss',\n",
       " 'midmade',\n",
       " 'midmade_midmiss',\n",
       " 'rim_ratio',\n",
       " 'mid_ratio',\n",
       " 'dunksmade',\n",
       " 'dunksmiss_dunksmade',\n",
       " 'dunks_ratio',\n",
       " 'pick',\n",
       " 'drtg',\n",
       " 'adrtg',\n",
       " 'dporpag',\n",
       " 'stops',\n",
       " 'bpm',\n",
       " 'obpm',\n",
       " 'dbpm',\n",
       " 'gbpm',\n",
       " 'ogbpm',\n",
       " 'dgbpm']"
      ]
     },
     "execution_count": 22,
     "metadata": {},
     "output_type": "execute_result"
    }
   ],
   "source": [
    "# Print the columns with missing values in test data\n",
    "\n",
    "[col for col in df_test_cleaned.columns if df_test_cleaned[col].isnull().any()]"
   ]
  },
  {
   "cell_type": "code",
   "execution_count": 23,
   "id": "f7017670-3069-415a-997f-283480066304",
   "metadata": {},
   "outputs": [
    {
     "name": "stdout",
     "output_type": "stream",
     "text": [
      "Index(['team', 'conf', 'GP', 'Min_per', 'Ortg', 'usg', 'eFG', 'TS_per',\n",
      "       'ORB_per', 'DRB_per', 'AST_per', 'TO_per', 'FTM', 'FTA', 'FT_per',\n",
      "       'twoPM', 'twoPA', 'twoP_per', 'TPM', 'TPA', 'TP_per', 'blk_per',\n",
      "       'stl_per', 'ftr', 'yr', 'ht', 'num', 'porpag', 'adjoe', 'pfr', 'year',\n",
      "       'type', 'Rec_Rank', 'ast_tov', 'rimmade', 'rimmade_rimmiss', 'midmade',\n",
      "       'midmade_midmiss', 'rim_ratio', 'mid_ratio', 'dunksmade',\n",
      "       'dunksmiss_dunksmade', 'dunks_ratio', 'pick', 'drtg', 'adrtg',\n",
      "       'dporpag', 'stops', 'bpm', 'obpm', 'dbpm', 'gbpm', 'mp', 'ogbpm',\n",
      "       'dgbpm', 'oreb', 'dreb', 'treb', 'ast', 'stl', 'blk', 'pts',\n",
      "       'player_id', 'drafted'],\n",
      "      dtype='object')\n"
     ]
    }
   ],
   "source": [
    "print(df_train_cleaned.columns)"
   ]
  },
  {
   "cell_type": "code",
   "execution_count": 24,
   "id": "d206d1a3-ac53-4504-b96e-050d8c9cdd15",
   "metadata": {},
   "outputs": [],
   "source": [
    "#Dropping player column of training data and will not be used again. But test data's player id column saved here will be merged back later\n",
    "playerid_col_train = df_train_cleaned.pop('player_id')\n",
    "playerid_col = df_test_cleaned.pop('player_id')"
   ]
  },
  {
   "cell_type": "raw",
   "id": "7ecd25ac-bb4b-4c2d-a3f4-e19f4baafff9",
   "metadata": {},
   "source": [
    "Dropping features that do not contribute to the player's performance. \n",
    "1. `team`, `conf`: Removing team and conference names as they are identifiers and not performance metrics.\n",
    "2. `FTM`, `FTA`, `twoPM`, `twoPA`, `TPM`, `TPA`: Dropping individual field goal and free throw data since derived percentages are provided the other columns\n",
    "3. `pick`: 97% are missing and also this data indicates pick the order in which a player was selected in the NBA Draft, which is not direct indicator of player's performance.\n",
    "4. 'num', 'year' and 'type':  Removing player number, season year, and type as they don't impact player performance.\n",
    "5. `ht`, `yr`: Removing height as it has date value and missing data and year of study since they might not affect on-court performance.\n",
    "6. `rimmade`, `rimmade_rimmiss`, `midmade`, `midmade_midmiss`: Removing shooting location data as effective field goal percentage is available. rim_ratio and mid_ratio already contain the info.\n",
    "7. `dunksmade`, `dunksmiss_dunksmade`, `dunks_ratio`: More than 50% of dunks_ratio are missing. dunks_ratio are based on dunksmade and dunksmiss_dunksmade. dunksmade and dunksmiss_dunksmade have many zero values\n"
   ]
  },
  {
   "cell_type": "code",
   "execution_count": 25,
   "id": "bfac1cc2-c67f-4e12-bc9d-a911643399ac",
   "metadata": {},
   "outputs": [],
   "source": [
    "# dropping few columns to reduce dimensions and also which looks like do not seem to be important for the NBA drafting decision and also too many missing values\n",
    "# Drop the specified columns\n",
    "columns_to_drop = ['ht', 'yr', 'team', 'type','num', 'conf', 'FTM' , 'FTA' , 'twoPM' , 'twoPA' , 'TPM' ,'TPA' , 'pick' , 'year' , 'rimmade', 'rimmade_rimmiss', 'midmade', 'midmade_midmiss','dunksmade', 'dunksmiss_dunksmade', 'dunks_ratio']\n",
    "df_train_cleaned.drop(columns=columns_to_drop, inplace=True)\n",
    "df_test_cleaned.drop(columns=columns_to_drop, inplace=True)"
   ]
  },
  {
   "cell_type": "code",
   "execution_count": 26,
   "id": "d901a5b8-cead-479d-95a2-a1dac8a58381",
   "metadata": {},
   "outputs": [
    {
     "data": {
      "image/png": "[encoded data removed]",
      "text/plain": [
       "<Figure size 1000x800 with 2 Axes>"
      ]
     },
     "metadata": {},
     "output_type": "display_data"
    }
   ],
   "source": [
    "# Plotting the correlation between the columns to help decide to drop more columns that are strongly corelated \n",
    "# Compute the correlation matrix\n",
    "corr_matrix = df_train_cleaned.corr()\n",
    "\n",
    "# Create a mask for correlations greater than 0.8\n",
    "mask = abs(corr_matrix) > 0.8\n",
    "\n",
    "# Apply the mask to the correlation matrix\n",
    "filtered_corr_matrix = corr_matrix.where(mask)\n",
    "\n",
    "# Plot the heatmap of the filtered correlation matrix\n",
    "plt.figure(figsize=(10, 8))\n",
    "sns.heatmap(filtered_corr_matrix, annot=True, cmap='coolwarm', fmt='.2f', linewidths=0.5, vmin=-1, vmax=1)\n",
    "\n",
    "# Add title\n",
    "plt.title('Filtered Correlation Matrix Heatmap (|Corr| > 0.8)', fontsize=16)\n",
    "\n",
    "# Show the plot\n",
    "plt.show()"
   ]
  },
  {
   "cell_type": "raw",
   "id": "189c3ecc-b323-4a70-846d-2d43871133ce",
   "metadata": {},
   "source": [
    "More features identified to be dropped based on strong correlation and after understanding their relationships\n",
    "8. 'Ortg': This is offensive rating that is strongly correlated to 'adjoe', the adjusted offensive rating\n",
    "9. 'Min_per' and 'mp': Player time, provide context for how much a player is involved. can be removed since we use the performance metrics - 'drpopag' and 'pts'\n",
    "10. 'dreb' and 'oreb': Removing these, since 'treb' is the sum of offensive and defensive rebounds (both)\n",
    "11. 'drtg': Removing this because it is highly correlated with 'adrtg' which is more accurate metric to explain the player's defensive capability. \n",
    "12. 'ogbpm','obpm' - since they are highly correlated with 'gbmp' and 'bpm' respectively and included in them. \n"
   ]
  },
  {
   "cell_type": "code",
   "execution_count": 27,
   "id": "b1cfbfcd-4a7c-4f7a-a445-c9cb136b7e77",
   "metadata": {},
   "outputs": [],
   "source": [
    "# Drop the more columns\n",
    "columns_to_drop_new = ['Ortg','Min_per','mp','dreb', 'oreb','drtg','ogbpm','obpm']\n",
    "df_train_cleaned.drop(columns=columns_to_drop_new, inplace=True)\n",
    "df_test_cleaned.drop(columns=columns_to_drop_new, inplace=True)"
   ]
  },
  {
   "cell_type": "code",
   "execution_count": 28,
   "id": "6407dd5e-1dc8-4b1f-8a3c-2112722328fc",
   "metadata": {},
   "outputs": [
    {
     "data": {
      "image/png": "[encoded data removed]",
      "text/plain": [
       "<Figure size 1000x800 with 2 Axes>"
      ]
     },
     "metadata": {},
     "output_type": "display_data"
    }
   ],
   "source": [
    "# Plotting the correlation between the columns to help decide to drop more columns that are strongly corelated \n",
    "# Compute the correlation matrix\n",
    "corr_matrix = df_train_cleaned.corr()\n",
    "\n",
    "# Create a mask for correlations greater than 0.8\n",
    "mask = abs(corr_matrix) > 0.8\n",
    "\n",
    "# Apply the mask to the correlation matrix\n",
    "filtered_corr_matrix = corr_matrix.where(mask)\n",
    "\n",
    "# Plot the heatmap of the filtered correlation matrix\n",
    "plt.figure(figsize=(10, 8))\n",
    "sns.heatmap(filtered_corr_matrix, annot=True, cmap='coolwarm', fmt='.2f', linewidths=0.5, vmin=-1, vmax=1)\n",
    "\n",
    "# Add title\n",
    "plt.title('Filtered Correlation Matrix Heatmap (|Corr| > 0.8)', fontsize=16)\n",
    "\n",
    "# Show the plot\n",
    "plt.show()"
   ]
  },
  {
   "cell_type": "code",
   "execution_count": 29,
   "id": "3d3e29e8-5194-41a5-be78-f39bb4167c7c",
   "metadata": {},
   "outputs": [
    {
     "data": {
      "text/plain": [
       "['Rec_Rank',\n",
       " 'ast_tov',\n",
       " 'rim_ratio',\n",
       " 'mid_ratio',\n",
       " 'adrtg',\n",
       " 'dporpag',\n",
       " 'stops',\n",
       " 'bpm',\n",
       " 'dbpm',\n",
       " 'gbpm',\n",
       " 'dgbpm',\n",
       " 'treb',\n",
       " 'ast',\n",
       " 'stl',\n",
       " 'blk',\n",
       " 'pts']"
      ]
     },
     "execution_count": 29,
     "metadata": {},
     "output_type": "execute_result"
    }
   ],
   "source": [
    "# Print the columns with missing values in training data\n",
    "[col for col in df_train_cleaned.columns if df_train_cleaned[col].isnull().any()]"
   ]
  },
  {
   "cell_type": "code",
   "execution_count": 30,
   "id": "11b7f28c-b564-4ae8-ab1c-8a4aa00e30ad",
   "metadata": {},
   "outputs": [
    {
     "data": {
      "text/plain": [
       "['Rec_Rank',\n",
       " 'ast_tov',\n",
       " 'rim_ratio',\n",
       " 'mid_ratio',\n",
       " 'adrtg',\n",
       " 'dporpag',\n",
       " 'stops',\n",
       " 'bpm',\n",
       " 'dbpm',\n",
       " 'gbpm',\n",
       " 'dgbpm']"
      ]
     },
     "execution_count": 30,
     "metadata": {},
     "output_type": "execute_result"
    }
   ],
   "source": [
    "# Print the columns with missing values in test data\n",
    "\n",
    "[col for col in df_test_cleaned.columns if df_test_cleaned[col].isnull().any()]"
   ]
  },
  {
   "cell_type": "code",
   "execution_count": 31,
   "id": "7a3122e8-a3d1-41bb-be39-f0923f699bb9",
   "metadata": {},
   "outputs": [],
   "source": [
    "# List of columns that contain ratios and their missing value treatment for train data\n",
    "columns_to_fill_train = ['Rec_Rank','ast_tov','rim_ratio','mid_ratio','adrtg','dporpag','stops','bpm','dbpm','gbpm','dgbpm','treb','ast','stl','blk','pts']\n",
    "columns_to_fill_test = ['Rec_Rank','ast_tov','rim_ratio','mid_ratio','adrtg','dporpag','stops','bpm','dbpm','gbpm','dgbpm']\n",
    "\n",
    "# Replace missing values with the median of non-missing values in each column in training data\n",
    "for column in columns_to_fill_train:\n",
    "    median_value = df_train_cleaned[column].median()\n",
    "    df_train_cleaned[column] = df_train_cleaned[column].fillna(median_value)\n",
    "\n",
    "# Replace missing values with the median of non-missing values in each column in test data\n",
    "for column in columns_to_fill_test:\n",
    "    median_value = df_test_cleaned[column].median()\n",
    "    df_test_cleaned[column] = df_test_cleaned[column].fillna(median_value)\n"
   ]
  },
  {
   "cell_type": "code",
   "execution_count": 32,
   "id": "88a2ced9-59a5-40fd-9534-6e3235844718",
   "metadata": {},
   "outputs": [
    {
     "data": {
      "text/plain": [
       "[]"
      ]
     },
     "execution_count": 32,
     "metadata": {},
     "output_type": "execute_result"
    }
   ],
   "source": [
    "# Print the columns with missing values in training data\n",
    "\n",
    "[col for col in df_train_cleaned.columns if df_train_cleaned[col].isnull().any()]"
   ]
  },
  {
   "cell_type": "code",
   "execution_count": 33,
   "id": "de01aaff-87e6-4b24-97b7-7a8078f465be",
   "metadata": {},
   "outputs": [
    {
     "data": {
      "text/plain": [
       "[]"
      ]
     },
     "execution_count": 33,
     "metadata": {},
     "output_type": "execute_result"
    }
   ],
   "source": [
    "# Print the columns with missing values in test data\n",
    "\n",
    "[col for col in df_test_cleaned.columns if df_test_cleaned[col].isnull().any()]"
   ]
  },
  {
   "cell_type": "markdown",
   "id": "9059d880-2997-4485-a461-fadb9256f7d5",
   "metadata": {},
   "source": [
    "3.1 Target variable extraction"
   ]
  },
  {
   "cell_type": "code",
   "execution_count": 34,
   "id": "35ce0e59-50d0-48f1-9749-a6339f6ed1b9",
   "metadata": {},
   "outputs": [],
   "source": [
    "#Extract the column `drafted` and save it into a dataframe called `target`\n",
    "target = df_train_cleaned.pop('drafted')"
   ]
  },
  {
   "cell_type": "code",
   "execution_count": 35,
   "id": "720e8cbd-e45a-484b-89fb-612e73629bfb",
   "metadata": {
    "scrolled": true
   },
   "outputs": [
    {
     "data": {
      "text/plain": [
       "drafted\n",
       "0.0    46174\n",
       "1.0      444\n",
       "Name: count, dtype: int64"
      ]
     },
     "execution_count": 35,
     "metadata": {},
     "output_type": "execute_result"
    }
   ],
   "source": [
    "#Understanding the target variable - 'drafted\n",
    "target.value_counts()"
   ]
  },
  {
   "cell_type": "code",
   "execution_count": 36,
   "id": "54bae64c-ff40-44ed-b1ef-41e95b662940",
   "metadata": {},
   "outputs": [],
   "source": [
    "# 3.4 Import StandardScaler from sklearn.preprocessing\n",
    "from sklearn.preprocessing import StandardScaler"
   ]
  },
  {
   "cell_type": "code",
   "execution_count": 37,
   "id": "431b2379-89a0-4ae5-a27c-0f75651c17e5",
   "metadata": {},
   "outputs": [],
   "source": [
    "# 3.9 Instantiate the StandardScaler\n",
    "scaler = StandardScaler()"
   ]
  },
  {
   "cell_type": "code",
   "execution_count": 51,
   "id": "0032a398-d0ee-496b-b677-7e55717c1f54",
   "metadata": {},
   "outputs": [
    {
     "name": "stdout",
     "output_type": "stream",
     "text": [
      "Scaled Training DataFrame:\n",
      "         GP       usg       eFG    TS_per   ORB_per   DRB_per   AST_per  \\\n",
      "0  0.243831 -0.253090 -0.106755 -0.182451 -0.406020 -0.722319  0.517183   \n",
      "1  1.037740 -0.528085  0.442445  0.401249 -0.185687 -0.568347  0.283883   \n",
      "2  0.343069  0.588074  0.070764  0.023732 -0.355944 -0.414375  0.400533   \n",
      "3  0.640785 -0.350147  0.509015  0.355367 -0.155642 -0.287575  0.294488   \n",
      "4  0.938501  0.620426  0.464635  0.391376  0.264993  0.545686 -0.288763   \n",
      "\n",
      "     TO_per    FT_per  twoP_per  ...     stops       bpm      dbpm      gbpm  \\\n",
      "0 -0.346907  0.505951 -0.223923  ... -0.500305 -0.321816 -0.623973 -0.261603   \n",
      "1 -0.060269  0.329553  0.372379  ...  0.452076  0.404077 -0.039527  0.271169   \n",
      "2 -0.379665  0.348319  0.011460  ...  0.499599  0.327455 -0.091448  0.387441   \n",
      "3  0.267317 -0.225915 -0.145462  ...  0.025424  0.200030  0.032358  0.218646   \n",
      "4  0.177231 -0.068282  0.539762  ...  0.699513  0.088543  0.164960  0.023874   \n",
      "\n",
      "      dgbpm      treb       ast       stl       blk       pts  \n",
      "0 -0.447411 -0.876985  0.107401 -0.386514 -0.579706 -0.373796  \n",
      "1  0.065326 -0.336069  0.646862 -0.246784 -0.114027  0.042459  \n",
      "2 -0.127033  0.151544  0.766087 -0.098321 -0.670807  1.306244  \n",
      "3  0.021259 -0.244397  0.028516  0.083157 -0.355385 -0.161540  \n",
      "4 -0.061974  0.993484 -0.186430 -0.155832  0.117866  0.373302  \n",
      "\n",
      "[5 rows x 33 columns]\n",
      "\n",
      "Scaled Test DataFrame:\n",
      "         GP       usg       eFG    TS_per   ORB_per   DRB_per   AST_per  \\\n",
      "0 -2.137897 -2.178059  0.309306  0.141052 -0.566261 -0.722319 -1.158336   \n",
      "1 -1.244749  0.070435 -0.539458 -0.719688 -0.315884  0.283027 -0.299367   \n",
      "2 -1.443226  0.911598  0.536752  0.285671  0.074706  0.898915 -0.097881   \n",
      "3 -1.641703 -1.256015  2.156616  2.076848 -0.566261  0.074712 -1.158336   \n",
      "4 -0.053885  0.539545  0.531205  0.496500 -0.205717 -0.215117 -0.331181   \n",
      "\n",
      "     TO_per    FT_per  twoP_per  ...     stops       bpm      dbpm      gbpm  \\\n",
      "0 -1.681819 -2.173806 -2.222057  ... -1.221506 -0.495107 -0.730661 -0.264041   \n",
      "1  0.807834 -0.297225 -0.914377  ... -0.937424 -1.132702 -0.671199 -1.126968   \n",
      "2  0.111714 -0.529921  0.701914  ... -0.526464  0.223567  0.840705  0.161932   \n",
      "3  1.069902 -2.173806  0.393302  ... -1.229313  0.092891 -0.007715  0.330766   \n",
      "4 -0.363286  1.057666  0.293918  ...  0.492068  0.465313 -0.167099  0.533138   \n",
      "\n",
      "      dgbpm      treb       ast       stl       blk       pts  \n",
      "0 -0.548707 -1.103373 -0.911609 -1.123929 -0.670807 -0.957639  \n",
      "1 -1.195792 -0.438144 -0.523166 -0.736690 -0.670807 -0.681647  \n",
      "2  0.660615  1.494792 -0.056950  0.296160  3.798818  0.639073  \n",
      "3  0.431859 -1.126088 -0.911609 -1.123929 -0.670807 -1.015465  \n",
      "4 -0.168167  0.604892  0.091676  0.635686 -0.464943  1.735149  \n",
      "\n",
      "[5 rows x 33 columns]\n"
     ]
    }
   ],
   "source": [
    "# 3.10 Fit and apply the scaling on df and add the results into test and training datasets\n",
    "df_train_cleaned1 = df_train_cleaned.copy()\n",
    "df_test_cleaned1 = df_test_cleaned.copy()\n",
    "\n",
    "# Fit and apply the scaling\n",
    "df_train_scaled = scaler.fit_transform(df_train_cleaned)\n",
    "df_test_scaled = scaler.transform(df_test_cleaned)\n",
    "\n",
    "# Convert the scaled data back to DataFrames\n",
    "df_train_cleaned1 = pd.DataFrame(df_train_scaled, columns=df_train_cleaned.columns)\n",
    "df_test_cleaned1 = pd.DataFrame(df_test_scaled, columns=df_test_cleaned.columns)\n",
    "\n",
    "# Display the scaled DataFrames\n",
    "print(\"Scaled Training DataFrame:\")\n",
    "print(df_train_cleaned1.head())\n",
    "\n",
    "print(\"\\nScaled Test DataFrame:\")\n",
    "print(df_test_cleaned1.head())"
   ]
  },
  {
   "cell_type": "code",
   "execution_count": 52,
   "id": "8bbe83c7-3500-43e8-9140-a24ab39ae7ac",
   "metadata": {},
   "outputs": [
    {
     "data": {
      "text/plain": [
       "(46618, 33)"
      ]
     },
     "execution_count": 52,
     "metadata": {},
     "output_type": "execute_result"
    }
   ],
   "source": [
    "df_train_cleaned1.shape"
   ]
  },
  {
   "cell_type": "code",
   "execution_count": 53,
   "id": "d000b0f5-c827-4d26-9d27-12517b064d54",
   "metadata": {},
   "outputs": [
    {
     "data": {
      "text/plain": [
       "(4970, 33)"
      ]
     },
     "execution_count": 53,
     "metadata": {},
     "output_type": "execute_result"
    }
   ],
   "source": [
    "df_test_cleaned1.shape"
   ]
  },
  {
   "cell_type": "code",
   "execution_count": 54,
   "id": "ae3faa09-83dd-4546-aef3-e5358f18ee89",
   "metadata": {},
   "outputs": [
    {
     "data": {
      "text/plain": [
       "(4970,)"
      ]
     },
     "execution_count": 54,
     "metadata": {},
     "output_type": "execute_result"
    }
   ],
   "source": [
    "playerid_col.shape"
   ]
  },
  {
   "cell_type": "code",
   "execution_count": 55,
   "id": "e50a3984-c58b-4e83-a89a-a8171d429d83",
   "metadata": {},
   "outputs": [],
   "source": [
    "# conversion if playerid_col is a NumPy array\n",
    "if isinstance(playerid_col, np.ndarray):\n",
    "    playerid_col = pd.Series(playerid_col)"
   ]
  },
  {
   "cell_type": "code",
   "execution_count": 57,
   "id": "1e82e79b-ec60-4aa1-b452-24b0e15d2560",
   "metadata": {},
   "outputs": [
    {
     "name": "stdout",
     "output_type": "stream",
     "text": [
      "<class 'pandas.core.frame.DataFrame'>\n"
     ]
    }
   ],
   "source": [
    "print(type(df_test_cleaned1))"
   ]
  },
  {
   "cell_type": "code",
   "execution_count": 58,
   "id": "247aecd2-0d1c-4c1c-9ded-5e43672f8fd3",
   "metadata": {},
   "outputs": [
    {
     "name": "stdout",
     "output_type": "stream",
     "text": [
      "<class 'pandas.core.series.Series'>\n"
     ]
    }
   ],
   "source": [
    "print(type(playerid_col))"
   ]
  },
  {
   "cell_type": "code",
   "execution_count": 59,
   "id": "6ac03f51-a2ff-4cdc-954e-315ada4cf56f",
   "metadata": {},
   "outputs": [],
   "source": [
    "#add back the 'player_id' column to the test dataset \n",
    "df_test_cleaned1.insert(1, 'player_id', playerid_col)"
   ]
  },
  {
   "cell_type": "code",
   "execution_count": 60,
   "id": "310d8cd1-a070-41b8-af99-62a353232e19",
   "metadata": {},
   "outputs": [
    {
     "name": "stdout",
     "output_type": "stream",
     "text": [
      "(4970, 34)\n",
      "(46618, 33)\n",
      "(46618,)\n"
     ]
    }
   ],
   "source": [
    "print(df_test_cleaned1.shape)\n",
    "print(df_train_cleaned1.shape)\n",
    "print(target.shape)"
   ]
  },
  {
   "cell_type": "code",
   "execution_count": 61,
   "id": "0a5cef76-c7e9-44df-8c52-02efc3ba9a26",
   "metadata": {},
   "outputs": [],
   "source": [
    "# 3.11 Import dump from joblib\n",
    "from joblib import dump"
   ]
  },
  {
   "cell_type": "code",
   "execution_count": 62,
   "id": "67ade4a1-0e7d-48ba-a5d9-1afe512131b6",
   "metadata": {},
   "outputs": [
    {
     "data": {
      "text/plain": [
       "['../models/scaler.joblib']"
      ]
     },
     "execution_count": 62,
     "metadata": {},
     "output_type": "execute_result"
    }
   ],
   "source": [
    "# 3.12 Save the one-hot encoder and scaler into the folder models and call the files respectively ohe.joblib and scaler.joblib\n",
    "dump(scaler, '../models/scaler.joblib')"
   ]
  },
  {
   "cell_type": "code",
   "execution_count": 63,
   "id": "f86406b1-1e6a-4cac-ab4f-38db96ac878a",
   "metadata": {},
   "outputs": [],
   "source": [
    "# 3.13 Saving the interim processed data\n",
    "# Paths for parquet files\n",
    "path1 = '../data/interim/train_cleaned.parquet'\n",
    "path2 = '../data/processed/test_cleaned.parquet'\n",
    "path3 = '../data/interim/target.parquet'\n",
    "\n",
    "# Training data\n",
    "df_train_cleaned1.to_parquet(path1, index=False, engine='pyarrow')\n",
    "\n",
    "# Testing data\n",
    "df_test_cleaned1.to_parquet(path2, index=False, engine='pyarrow')\n",
    "\n",
    "# Saving the target Series as a Parquet file\n",
    "target.to_frame().to_parquet(path3, index=False, engine='pyarrow')"
   ]
  }
 ],
 "metadata": {
  "kernelspec": {
   "display_name": "Python 3 (ipykernel)",
   "language": "python",
   "name": "python3"
  },
  "language_info": {
   "codemirror_mode": {
    "name": "ipython",
    "version": 3
   },
   "file_extension": ".py",
   "mimetype": "text/x-python",
   "name": "python",
   "nbconvert_exporter": "python",
   "pygments_lexer": "ipython3",
   "version": "3.11.5"
  }
 },
 "nbformat": 4,
 "nbformat_minor": 5
}
