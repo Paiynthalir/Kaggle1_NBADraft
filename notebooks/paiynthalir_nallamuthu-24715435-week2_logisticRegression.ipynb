{
 "cells": [
  {
   "cell_type": "markdown",
   "id": "3e660908-1570-4397-89a1-4d2e680af7a7",
   "metadata": {},
   "source": [
    "1. Loading the dataset"
   ]
  },
  {
   "cell_type": "code",
   "execution_count": 1,
   "id": "c501d5b9-c451-459d-9095-4c4e1b30ce0c",
   "metadata": {},
   "outputs": [],
   "source": [
    "# 1.1. Launch commands to automatically reload modules\n",
    "%load_ext autoreload\n",
    "%autoreload 2"
   ]
  },
  {
   "cell_type": "code",
   "execution_count": 2,
   "id": "b21daea4-e395-4838-8483-9f595e849935",
   "metadata": {},
   "outputs": [],
   "source": [
    "# 1.2. Import the packages\n",
    "import pandas as pd\n",
    "import numpy as np\n",
    "import matplotlib.pyplot as plt\n",
    "import altair as alt"
   ]
  },
  {
   "cell_type": "code",
   "execution_count": 3,
   "id": "17bdf214-23ae-42b4-85ff-13d3db62c837",
   "metadata": {},
   "outputs": [],
   "source": [
    "# 1.3. Load the training, validation and test datasets into a dataframes \n",
    "# Load the Parquet files into DataFrames\n",
    "X_train = pd.read_parquet('../data/processed/X_train.parquet')\n",
    "X_val = pd.read_parquet('../data/processed/X_val.parquet')\n",
    "y_train = pd.read_parquet('../data/processed/y_train.parquet')\n",
    "y_val = pd.read_parquet('../data/processed/y_val.parquet')\n",
    "X_test = pd.read_parquet('../data/processed/test_cleaned.parquet')"
   ]
  },
  {
   "cell_type": "code",
   "execution_count": 4,
   "id": "ed4adca9-707a-4365-a298-89f275bfd2b6",
   "metadata": {},
   "outputs": [],
   "source": [
    "# taking out the player id out of the test data\n",
    "player_id_test = X_test.pop('player_id')"
   ]
  },
  {
   "cell_type": "code",
   "execution_count": 5,
   "id": "6bb02ea7-ce0f-4f96-b79c-060ac5bb069c",
   "metadata": {},
   "outputs": [
    {
     "data": {
      "text/plain": [
       "(9324,)"
      ]
     },
     "execution_count": 5,
     "metadata": {},
     "output_type": "execute_result"
    }
   ],
   "source": [
    "y_val = y_val.iloc[:, 0]  # Convert the single column DataFrame to a Series\n",
    "y_val.shape"
   ]
  },
  {
   "cell_type": "code",
   "execution_count": 6,
   "id": "0e1e7e8c-042e-4219-ae51-944c77fd170e",
   "metadata": {},
   "outputs": [
    {
     "data": {
      "text/plain": [
       "(37294,)"
      ]
     },
     "execution_count": 6,
     "metadata": {},
     "output_type": "execute_result"
    }
   ],
   "source": [
    "y_train = y_train.iloc[:, 0]  # Convert the single column DataFrame to a Series\n",
    "y_train.shape"
   ]
  },
  {
   "cell_type": "markdown",
   "id": "6359ec37-a412-49f3-92e9-4b917b94b978",
   "metadata": {},
   "source": [
    "3. Logistic Regression - Modelling"
   ]
  },
  {
   "cell_type": "code",
   "execution_count": 7,
   "id": "6bcba061-3e5c-426d-ae05-fb6f31db8bd4",
   "metadata": {},
   "outputs": [],
   "source": [
    "#3.1 Import RandomForestClassifier and instantiate the model\n",
    "from sklearn.linear_model import LogisticRegression\n",
    "lg_1 = LogisticRegression()\n"
   ]
  },
  {
   "cell_type": "code",
   "execution_count": 8,
   "id": "4c2efe37-2fc4-49b5-ad8a-0014902a0271",
   "metadata": {},
   "outputs": [],
   "source": [
    "# 3.2 Train the model and save the predicted values\n",
    "lg_1.fit(X_train, y_train)\n",
    "y_train_probs_lg1 = lg_1.predict_proba(X_train)\n",
    "y_val_probs_lg1 = lg_1.predict_proba(X_val)\n",
    "\n",
    "# Select the probability for the positive class (class 1)\n",
    "y_train_probs_lg1 = y_train_probs_lg1[:, 1]\n",
    "y_val_probs_lg1 = y_val_probs_lg1[:, 1]"
   ]
  },
  {
   "cell_type": "code",
   "execution_count": 9,
   "id": "0b913609-69aa-49c4-b556-3704cfcb25b9",
   "metadata": {},
   "outputs": [
    {
     "data": {
      "image/png": "[encoded data removed]",
      "text/plain": [
       "<Figure size 640x480 with 1 Axes>"
      ]
     },
     "metadata": {},
     "output_type": "display_data"
    }
   ],
   "source": [
    "# 3.3 To plot ROC curve and the AUC metric - for comparison of model performances\n",
    "#To plot ROC curve and the AUC metric\n",
    "from sklearn import metrics\n",
    "\n",
    "# Set up plotting area\n",
    "plt.figure(0).clf()\n",
    "\n",
    "# Random Forest - Train\n",
    "fpr, tpr, _ = metrics.roc_curve(y_train, y_train_probs_lg1)\n",
    "auc = round(metrics.roc_auc_score(y_train, y_train_probs_lg1), 4)\n",
    "plt.plot(fpr, tpr, label=\"Random Forest Train, AUC=\"+str(auc))\n",
    "\n",
    "# Random Forest - Validation\n",
    "fpr, tpr, _ = metrics.roc_curve(y_val, y_val_probs_lg1)\n",
    "auc = round(metrics.roc_auc_score(y_val, y_val_probs_lg1), 4)\n",
    "plt.plot(fpr, tpr, label=\"Random Forest Val, AUC=\"+str(auc))\n",
    "\n",
    "# Add legend\n",
    "plt.legend()\n",
    "\n",
    "# Show the plot\n",
    "plt.xlabel(\"False Positive Rate\")\n",
    "plt.ylabel(\"True Positive Rate\")\n",
    "plt.title(\"ROC Curve\")\n",
    "plt.show()"
   ]
  },
  {
   "cell_type": "code",
   "execution_count": 10,
   "id": "d586ddee-caa5-4955-b420-35e38fb589ff",
   "metadata": {},
   "outputs": [],
   "source": [
    "# 3.4 Save the probability of the test data\n",
    "y_test_prob_lg1 = lg_1.predict_proba(X_test)\n",
    "\n",
    "# Select the probability for the positive class (class 1)\n",
    "y_test_prob_lg1 = y_test_prob_lg1[:, 1]\n"
   ]
  },
  {
   "cell_type": "code",
   "execution_count": 11,
   "id": "91ec99fc-4253-4739-aebd-0ca3aada2caf",
   "metadata": {},
   "outputs": [],
   "source": [
    "# 3.5 add the 'player_id'column  into the prediction probability\n",
    "# Convert y_test_prob_rf3 (which is a NumPy array) to a DataFrame\n",
    "y_test_prob_df = pd.DataFrame(y_test_prob_lg1, columns=['drafted'])\n",
    "\n",
    "# Concatenate player_id_test and y_test_prob_df along the columns\n",
    "Results_1 = pd.concat([player_id_test, y_test_prob_df], axis=1)"
   ]
  },
  {
   "cell_type": "code",
   "execution_count": 12,
   "id": "4f80be2b-dab7-41ec-88fb-6897329480a6",
   "metadata": {},
   "outputs": [
    {
     "data": {
      "text/html": [
       "<div>\n",
       "<style scoped>\n",
       "    .dataframe tbody tr th:only-of-type {\n",
       "        vertical-align: middle;\n",
       "    }\n",
       "\n",
       "    .dataframe tbody tr th {\n",
       "        vertical-align: top;\n",
       "    }\n",
       "\n",
       "    .dataframe thead th {\n",
       "        text-align: right;\n",
       "    }\n",
       "</style>\n",
       "<table border=\"1\" class=\"dataframe\">\n",
       "  <thead>\n",
       "    <tr style=\"text-align: right;\">\n",
       "      <th></th>\n",
       "      <th>player_id</th>\n",
       "      <th>drafted</th>\n",
       "    </tr>\n",
       "  </thead>\n",
       "  <tbody>\n",
       "    <tr>\n",
       "      <th>0</th>\n",
       "      <td>23549e01-c1b3-4ca0-a0fd-de9b5d76276b</td>\n",
       "      <td>2.377022e-07</td>\n",
       "    </tr>\n",
       "    <tr>\n",
       "      <th>1</th>\n",
       "      <td>52a518bb-b34a-4b43-adee-5e996cb853fa</td>\n",
       "      <td>2.479017e-05</td>\n",
       "    </tr>\n",
       "    <tr>\n",
       "      <th>2</th>\n",
       "      <td>ad3d9117-b6bf-4675-ab97-3497acf3e555</td>\n",
       "      <td>9.431043e-05</td>\n",
       "    </tr>\n",
       "    <tr>\n",
       "      <th>3</th>\n",
       "      <td>eaf66a5c-6f4c-4070-bc70-a99d731b3740</td>\n",
       "      <td>4.269524e-05</td>\n",
       "    </tr>\n",
       "    <tr>\n",
       "      <th>4</th>\n",
       "      <td>55d07491-5bd1-447f-844e-9cb36eaa442e</td>\n",
       "      <td>3.364844e-05</td>\n",
       "    </tr>\n",
       "    <tr>\n",
       "      <th>...</th>\n",
       "      <td>...</td>\n",
       "      <td>...</td>\n",
       "    </tr>\n",
       "    <tr>\n",
       "      <th>4965</th>\n",
       "      <td>28222513-8a1f-4a48-8fde-16888e9e11ce</td>\n",
       "      <td>7.948008e-13</td>\n",
       "    </tr>\n",
       "    <tr>\n",
       "      <th>4966</th>\n",
       "      <td>c32a466d-7a66-47eb-805c-a94e328261bc</td>\n",
       "      <td>3.053243e-04</td>\n",
       "    </tr>\n",
       "    <tr>\n",
       "      <th>4967</th>\n",
       "      <td>55f0ddef-9f29-47ae-87b5-da43c687d25c</td>\n",
       "      <td>8.492604e-07</td>\n",
       "    </tr>\n",
       "    <tr>\n",
       "      <th>4968</th>\n",
       "      <td>460d6a42-5dbc-48f0-bc94-3650da83f345</td>\n",
       "      <td>6.428662e-08</td>\n",
       "    </tr>\n",
       "    <tr>\n",
       "      <th>4969</th>\n",
       "      <td>00a16405-e17f-4b19-b7c0-c2de73b8361d</td>\n",
       "      <td>4.207425e-10</td>\n",
       "    </tr>\n",
       "  </tbody>\n",
       "</table>\n",
       "<p>4970 rows × 2 columns</p>\n",
       "</div>"
      ],
      "text/plain": [
       "                                 player_id       drafted\n",
       "0     23549e01-c1b3-4ca0-a0fd-de9b5d76276b  2.377022e-07\n",
       "1     52a518bb-b34a-4b43-adee-5e996cb853fa  2.479017e-05\n",
       "2     ad3d9117-b6bf-4675-ab97-3497acf3e555  9.431043e-05\n",
       "3     eaf66a5c-6f4c-4070-bc70-a99d731b3740  4.269524e-05\n",
       "4     55d07491-5bd1-447f-844e-9cb36eaa442e  3.364844e-05\n",
       "...                                    ...           ...\n",
       "4965  28222513-8a1f-4a48-8fde-16888e9e11ce  7.948008e-13\n",
       "4966  c32a466d-7a66-47eb-805c-a94e328261bc  3.053243e-04\n",
       "4967  55f0ddef-9f29-47ae-87b5-da43c687d25c  8.492604e-07\n",
       "4968  460d6a42-5dbc-48f0-bc94-3650da83f345  6.428662e-08\n",
       "4969  00a16405-e17f-4b19-b7c0-c2de73b8361d  4.207425e-10\n",
       "\n",
       "[4970 rows x 2 columns]"
      ]
     },
     "execution_count": 12,
     "metadata": {},
     "output_type": "execute_result"
    }
   ],
   "source": [
    "Results_1"
   ]
  },
  {
   "cell_type": "code",
   "execution_count": 13,
   "id": "3f6bef30-2ca1-4134-a4e7-3147acb2a6a6",
   "metadata": {},
   "outputs": [
    {
     "data": {
      "text/plain": [
       "['../models/logisticRegression.joblib']"
      ]
     },
     "execution_count": 13,
     "metadata": {},
     "output_type": "execute_result"
    }
   ],
   "source": [
    "#3.6 save the probability as CSV file\n",
    "\n",
    "# Convert to DataFrame and save\n",
    "pd.DataFrame(Results_1).to_csv('../data/external/Results.csv', index=False)\n",
    "\n",
    "#3.7 save the model\n",
    "# Import dump from joblib\n",
    "from joblib import dump\n",
    "\n",
    "# 3.12 Save the model and call the files respectively randomForest.joblib \n",
    "dump(lg_1, '../models/logisticRegression.joblib')\n"
   ]
  }
 ],
 "metadata": {
  "kernelspec": {
   "display_name": "Python 3 (ipykernel)",
   "language": "python",
   "name": "python3"
  },
  "language_info": {
   "codemirror_mode": {
    "name": "ipython",
    "version": 3
   },
   "file_extension": ".py",
   "mimetype": "text/x-python",
   "name": "python",
   "nbconvert_exporter": "python",
   "pygments_lexer": "ipython3",
   "version": "3.11.5"
  }
 },
 "nbformat": 4,
 "nbformat_minor": 5
}
