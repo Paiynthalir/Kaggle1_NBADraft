{
  "cells": [
    {
      "cell_type": "code",
      "execution_count": 76,
      "metadata": {
        "id": "SLVB8w4XymZ0"
      },
      "outputs": [],
      "source": [
        "import pandas as pd\n",
        "from sklearn.compose import ColumnTransformer\n",
        "from sklearn.preprocessing import StandardScaler, OneHotEncoder\n",
        "from sklearn.impute import SimpleImputer\n",
        "from sklearn.pipeline import Pipeline\n",
        "from sklearn.model_selection import train_test_split\n",
        "import matplotlib.pyplot as plt"
      ]
    },
    {
      "cell_type": "markdown",
      "metadata": {
        "id": "97FTr-FLvS0H"
      },
      "source": []
    },
    {
      "cell_type": "markdown",
      "metadata": {
        "id": "TaBXcZPKzAx1"
      },
      "source": [
        "Load datasets"
      ]
    },
    {
      "cell_type": "code",
      "execution_count": 33,
      "metadata": {
        "colab": {
          "base_uri": "https://localhost:8080/"
        },
        "id": "VZjnfnHbzCkC",
        "outputId": "371aadfe-a77c-44e6-9871-14a981f58811"
      },
      "outputs": [
        {
          "output_type": "stream",
          "name": "stderr",
          "text": [
            "<ipython-input-33-525dda771c74>:1: DtypeWarning: Columns (26) have mixed types. Specify dtype option on import or set low_memory=False.\n",
            "  train_data = pd.read_csv('train.csv')\n"
          ]
        }
      ],
      "source": [
        "train_data = pd.read_csv('train.csv')\n",
        "test_data = pd.read_csv('test.csv')"
      ]
    },
    {
      "cell_type": "code",
      "execution_count": 34,
      "metadata": {
        "colab": {
          "base_uri": "https://localhost:8080/"
        },
        "id": "TrIc0z68zlie",
        "outputId": "387ff3e9-ecc2-4439-b438-27c669359b31"
      },
      "outputs": [
        {
          "output_type": "stream",
          "name": "stdout",
          "text": [
            "Train Data Shape: (46618, 64)\n",
            "Test Data Shape: (4970, 63)\n"
          ]
        }
      ],
      "source": [
        "print(\"Train Data Shape:\", train_data.shape)\n",
        "print(\"Test Data Shape:\", test_data.shape)"
      ]
    },
    {
      "cell_type": "markdown",
      "metadata": {
        "id": "4GdVeUGNzUn6"
      },
      "source": [
        "Data Preparation"
      ]
    },
    {
      "cell_type": "code",
      "execution_count": 35,
      "metadata": {
        "id": "RbxjWvFczVYh"
      },
      "outputs": [],
      "source": [
        "df_cleaned = train_data.copy()\n",
        "df_cleaned_test = test_data.copy()"
      ]
    },
    {
      "cell_type": "markdown",
      "metadata": {
        "id": "X3vIhuIAzn47"
      },
      "source": [
        "Check for missing values"
      ]
    },
    {
      "cell_type": "code",
      "execution_count": 36,
      "metadata": {
        "colab": {
          "base_uri": "https://localhost:8080/"
        },
        "id": "kABfkYzwzqIi",
        "outputId": "effec2cf-4ea2-43d6-fddd-12133d38a17f"
      },
      "outputs": [
        {
          "output_type": "stream",
          "name": "stdout",
          "text": [
            "Missing Values Before Handling:\n",
            " yr                       292\n",
            "ht                        64\n",
            "num                     4679\n",
            "Rec_Rank               32281\n",
            "ast_tov                 3467\n",
            "rimmade                 5758\n",
            "rimmade_rimmiss         5758\n",
            "midmade                 5758\n",
            "midmade_midmiss         5758\n",
            "rim_ratio               8499\n",
            "mid_ratio               8568\n",
            "dunksmade               5758\n",
            "dunksmiss_dunksmade     5758\n",
            "dunks_ratio            26218\n",
            "pick                   45411\n",
            "drtg                      42\n",
            "adrtg                     42\n",
            "dporpag                   42\n",
            "stops                     42\n",
            "bpm                       42\n",
            "obpm                      42\n",
            "dbpm                      42\n",
            "gbpm                      42\n",
            "mp                        36\n",
            "ogbpm                     42\n",
            "dgbpm                     42\n",
            "oreb                      36\n",
            "dreb                      36\n",
            "treb                      36\n",
            "ast                       36\n",
            "stl                       36\n",
            "blk                       36\n",
            "pts                       36\n",
            "dtype: int64\n"
          ]
        }
      ],
      "source": [
        "missing_data = df_cleaned.isnull().sum()\n",
        "print(\"Missing Values Before Handling:\\n\", missing_data[missing_data > 0])"
      ]
    },
    {
      "cell_type": "markdown",
      "metadata": {
        "id": "G-hPAvlCzvjH"
      },
      "source": [
        "Dropping columns with maximum missing values"
      ]
    },
    {
      "cell_type": "code",
      "execution_count": 37,
      "metadata": {
        "id": "r5dkI-i1zzie"
      },
      "outputs": [],
      "source": [
        "cols_to_drop = [\n",
        "    'Rec_Rank', 'ast_tov', 'rimmade', 'rimmade_rimmiss', 'midmade',\n",
        "    'midmade_midmiss', 'rim_ratio', 'mid_ratio', 'dunksmade', 'dunksmiss_dunksmade',\n",
        "    'dunks_ratio'\n",
        "]"
      ]
    },
    {
      "cell_type": "code",
      "execution_count": 38,
      "metadata": {
        "id": "rPBVcZHHz2Pe"
      },
      "outputs": [],
      "source": [
        "df_cleaned.drop(columns=cols_to_drop, inplace=True, errors='ignore')"
      ]
    },
    {
      "cell_type": "code",
      "execution_count": 39,
      "metadata": {
        "id": "rYU5fVqyz4hg"
      },
      "outputs": [],
      "source": [
        "df_cleaned_test.drop(columns=cols_to_drop, inplace=True, errors='ignore')"
      ]
    },
    {
      "cell_type": "markdown",
      "metadata": {
        "id": "Akmp6Mhj0WiE"
      },
      "source": [
        "Ensure columns are consistent between train and test\n"
      ]
    },
    {
      "cell_type": "code",
      "execution_count": 40,
      "metadata": {
        "id": "5sFSSQE-0XED"
      },
      "outputs": [],
      "source": [
        "common_columns = df_cleaned.columns.intersection(df_cleaned_test.columns).tolist()"
      ]
    },
    {
      "cell_type": "code",
      "execution_count": 41,
      "metadata": {
        "colab": {
          "base_uri": "https://localhost:8080/"
        },
        "id": "pmQGjXko0Y_P",
        "outputId": "899e6a1c-d80a-4f8a-e4fb-d50fac495dac"
      },
      "outputs": [
        {
          "output_type": "execute_result",
          "data": {
            "text/plain": [
              "['team',\n",
              " 'conf',\n",
              " 'GP',\n",
              " 'Min_per',\n",
              " 'Ortg',\n",
              " 'usg',\n",
              " 'eFG',\n",
              " 'TS_per',\n",
              " 'ORB_per',\n",
              " 'DRB_per',\n",
              " 'AST_per',\n",
              " 'TO_per',\n",
              " 'FTM',\n",
              " 'FTA',\n",
              " 'FT_per',\n",
              " 'twoPM',\n",
              " 'twoPA',\n",
              " 'twoP_per',\n",
              " 'TPM',\n",
              " 'TPA',\n",
              " 'TP_per',\n",
              " 'blk_per',\n",
              " 'stl_per',\n",
              " 'ftr',\n",
              " 'yr',\n",
              " 'ht',\n",
              " 'num',\n",
              " 'porpag',\n",
              " 'adjoe',\n",
              " 'pfr',\n",
              " 'year',\n",
              " 'type',\n",
              " 'pick',\n",
              " 'drtg',\n",
              " 'adrtg',\n",
              " 'dporpag',\n",
              " 'stops',\n",
              " 'bpm',\n",
              " 'obpm',\n",
              " 'dbpm',\n",
              " 'gbpm',\n",
              " 'mp',\n",
              " 'ogbpm',\n",
              " 'dgbpm',\n",
              " 'oreb',\n",
              " 'dreb',\n",
              " 'treb',\n",
              " 'ast',\n",
              " 'stl',\n",
              " 'blk',\n",
              " 'pts',\n",
              " 'player_id']"
            ]
          },
          "metadata": {},
          "execution_count": 41
        }
      ],
      "source": [
        "common_columns"
      ]
    },
    {
      "cell_type": "code",
      "execution_count": 42,
      "metadata": {
        "id": "hAjNo1iO0hCh"
      },
      "outputs": [],
      "source": [
        "common_columns = [col for col in common_columns if col != 'player_id']"
      ]
    },
    {
      "cell_type": "code",
      "execution_count": 43,
      "metadata": {
        "colab": {
          "base_uri": "https://localhost:8080/"
        },
        "id": "AHgpRX2f7SSU",
        "outputId": "2f66fa6a-749c-4f81-a3fa-5f461a73e2d6"
      },
      "outputs": [
        {
          "output_type": "execute_result",
          "data": {
            "text/plain": [
              "['team',\n",
              " 'conf',\n",
              " 'GP',\n",
              " 'Min_per',\n",
              " 'Ortg',\n",
              " 'usg',\n",
              " 'eFG',\n",
              " 'TS_per',\n",
              " 'ORB_per',\n",
              " 'DRB_per',\n",
              " 'AST_per',\n",
              " 'TO_per',\n",
              " 'FTM',\n",
              " 'FTA',\n",
              " 'FT_per',\n",
              " 'twoPM',\n",
              " 'twoPA',\n",
              " 'twoP_per',\n",
              " 'TPM',\n",
              " 'TPA',\n",
              " 'TP_per',\n",
              " 'blk_per',\n",
              " 'stl_per',\n",
              " 'ftr',\n",
              " 'yr',\n",
              " 'ht',\n",
              " 'num',\n",
              " 'porpag',\n",
              " 'adjoe',\n",
              " 'pfr',\n",
              " 'year',\n",
              " 'type',\n",
              " 'pick',\n",
              " 'drtg',\n",
              " 'adrtg',\n",
              " 'dporpag',\n",
              " 'stops',\n",
              " 'bpm',\n",
              " 'obpm',\n",
              " 'dbpm',\n",
              " 'gbpm',\n",
              " 'mp',\n",
              " 'ogbpm',\n",
              " 'dgbpm',\n",
              " 'oreb',\n",
              " 'dreb',\n",
              " 'treb',\n",
              " 'ast',\n",
              " 'stl',\n",
              " 'blk',\n",
              " 'pts']"
            ]
          },
          "metadata": {},
          "execution_count": 43
        }
      ],
      "source": [
        "common_columns"
      ]
    },
    {
      "cell_type": "markdown",
      "metadata": {
        "id": "ZyYxrNvq7R1i"
      },
      "source": []
    },
    {
      "cell_type": "markdown",
      "metadata": {
        "id": "sdNs2opf0lZ2"
      },
      "source": [
        "Define features"
      ]
    },
    {
      "cell_type": "code",
      "execution_count": 44,
      "metadata": {
        "id": "H5ov-bkj0m89"
      },
      "outputs": [],
      "source": [
        "numerical_features = df_cleaned.select_dtypes(include=['float64', 'int64']).columns.tolist()\n",
        "categorical_features = df_cleaned.select_dtypes(include=['object']).columns.tolist()"
      ]
    },
    {
      "cell_type": "markdown",
      "metadata": {
        "id": "BYxTn3ui0pzN"
      },
      "source": [
        "Remove 'drafted' from features for prediction\n"
      ]
    },
    {
      "cell_type": "code",
      "execution_count": 45,
      "metadata": {
        "colab": {
          "base_uri": "https://localhost:8080/"
        },
        "id": "F-SYasLq7vus",
        "outputId": "8172fc77-8bb0-454d-a62b-9780fae67187"
      },
      "outputs": [
        {
          "output_type": "execute_result",
          "data": {
            "text/plain": [
              "['GP',\n",
              " 'Min_per',\n",
              " 'Ortg',\n",
              " 'usg',\n",
              " 'eFG',\n",
              " 'TS_per',\n",
              " 'ORB_per',\n",
              " 'DRB_per',\n",
              " 'AST_per',\n",
              " 'TO_per',\n",
              " 'FTM',\n",
              " 'FTA',\n",
              " 'FT_per',\n",
              " 'twoPM',\n",
              " 'twoPA',\n",
              " 'twoP_per',\n",
              " 'TPM',\n",
              " 'TPA',\n",
              " 'TP_per',\n",
              " 'blk_per',\n",
              " 'stl_per',\n",
              " 'ftr',\n",
              " 'porpag',\n",
              " 'adjoe',\n",
              " 'pfr',\n",
              " 'year',\n",
              " 'pick',\n",
              " 'drtg',\n",
              " 'adrtg',\n",
              " 'dporpag',\n",
              " 'stops',\n",
              " 'bpm',\n",
              " 'obpm',\n",
              " 'dbpm',\n",
              " 'gbpm',\n",
              " 'mp',\n",
              " 'ogbpm',\n",
              " 'dgbpm',\n",
              " 'oreb',\n",
              " 'dreb',\n",
              " 'treb',\n",
              " 'ast',\n",
              " 'stl',\n",
              " 'blk',\n",
              " 'pts',\n",
              " 'drafted']"
            ]
          },
          "metadata": {},
          "execution_count": 45
        }
      ],
      "source": [
        "numerical_features"
      ]
    },
    {
      "cell_type": "code",
      "execution_count": 46,
      "metadata": {
        "colab": {
          "base_uri": "https://localhost:8080/"
        },
        "id": "gZNB1xD279n7",
        "outputId": "8e9b79ea-6a1a-4d4f-f980-988b52f8a3b7"
      },
      "outputs": [
        {
          "output_type": "execute_result",
          "data": {
            "text/plain": [
              "['team', 'conf', 'yr', 'ht', 'num', 'type', 'player_id']"
            ]
          },
          "metadata": {},
          "execution_count": 46
        }
      ],
      "source": [
        "categorical_features"
      ]
    },
    {
      "cell_type": "code",
      "execution_count": 47,
      "metadata": {
        "id": "EpkHMGmu0rgG"
      },
      "outputs": [],
      "source": [
        "numerical_features = [col for col in numerical_features if col != 'drafted']"
      ]
    },
    {
      "cell_type": "code",
      "execution_count": 48,
      "metadata": {
        "id": "7ruKkReP8IIx"
      },
      "outputs": [],
      "source": [
        "categorical_features = [col for col in categorical_features if col != 'player_id']"
      ]
    },
    {
      "cell_type": "markdown",
      "metadata": {
        "id": "zDJXgfNU0vD3"
      },
      "source": [
        "Check if all specified columns exist in both DataFrames\n"
      ]
    },
    {
      "cell_type": "code",
      "execution_count": 49,
      "metadata": {
        "id": "vJwheyC20wqd"
      },
      "outputs": [],
      "source": [
        "missing_in_train = set(numerical_features + categorical_features) - set(df_cleaned.columns)\n",
        "missing_in_test = set(numerical_features + categorical_features) - set(df_cleaned_test.columns)"
      ]
    },
    {
      "cell_type": "code",
      "execution_count": 50,
      "metadata": {
        "colab": {
          "base_uri": "https://localhost:8080/"
        },
        "id": "Xy2-pum70y1U",
        "outputId": "8adade6d-b55d-4f1e-ed45-4919b802ccd8"
      },
      "outputs": [
        {
          "output_type": "stream",
          "name": "stdout",
          "text": [
            "Missing columns in training data: set()\n",
            "Missing columns in test data: set()\n"
          ]
        }
      ],
      "source": [
        "\n",
        "print(f\"Missing columns in training data: {missing_in_train}\")\n",
        "print(f\"Missing columns in test data: {missing_in_test}\")"
      ]
    },
    {
      "cell_type": "markdown",
      "metadata": {
        "id": "EHUymPLi8YG2"
      },
      "source": [
        "Convert mixed-type columns to strings"
      ]
    },
    {
      "cell_type": "code",
      "execution_count": 51,
      "metadata": {
        "id": "D9Q2hGhW8Yf7"
      },
      "outputs": [],
      "source": [
        "for col in categorical_features:\n",
        "    df_cleaned[col] = df_cleaned[col].astype(str)\n",
        "    df_cleaned_test[col] = df_cleaned_test[col].astype(str)"
      ]
    },
    {
      "cell_type": "markdown",
      "metadata": {
        "id": "f7z-bVRN01mz"
      },
      "source": [
        "Define transformers"
      ]
    },
    {
      "cell_type": "code",
      "execution_count": 52,
      "metadata": {
        "id": "6Y6AjIwS03JZ"
      },
      "outputs": [],
      "source": [
        "numerical_transformer = Pipeline(steps=[\n",
        "    ('imputer', SimpleImputer(strategy='median')),\n",
        "    ('scaler', StandardScaler())\n",
        "])"
      ]
    },
    {
      "cell_type": "code",
      "execution_count": 53,
      "metadata": {
        "id": "LTmuvYda04pQ"
      },
      "outputs": [],
      "source": [
        "categorical_transformer = Pipeline(steps=[\n",
        "    ('imputer', SimpleImputer(strategy='most_frequent')),\n",
        "    ('onehot', OneHotEncoder(handle_unknown='ignore'))\n",
        "])\n"
      ]
    },
    {
      "cell_type": "markdown",
      "metadata": {
        "id": "ko7NcsPR08IA"
      },
      "source": [
        "Define the preprocessor"
      ]
    },
    {
      "cell_type": "code",
      "execution_count": 54,
      "metadata": {
        "id": "EaW5rL1P06Wm"
      },
      "outputs": [],
      "source": [
        "preprocessor = ColumnTransformer(\n",
        "    transformers=[\n",
        "        ('num', numerical_transformer, numerical_features),\n",
        "        ('cat', categorical_transformer, categorical_features)\n",
        "    ],\n",
        "    remainder='passthrough'\n",
        ")"
      ]
    },
    {
      "cell_type": "markdown",
      "metadata": {
        "id": "YcDZJuWA0_T1"
      },
      "source": [
        "Prepare features and labels"
      ]
    },
    {
      "cell_type": "code",
      "execution_count": 55,
      "metadata": {
        "id": "MucFO9oG1Ey-"
      },
      "outputs": [],
      "source": [
        "X_train = df_cleaned.drop(columns=['player_id', 'drafted'])\n",
        "y_train = df_cleaned['drafted']\n",
        "X_test = df_cleaned_test.drop(columns=['player_id'])"
      ]
    },
    {
      "cell_type": "markdown",
      "metadata": {
        "id": "A4XYWfS61MBG"
      },
      "source": [
        "Ensure features are aligned"
      ]
    },
    {
      "cell_type": "code",
      "execution_count": 56,
      "metadata": {
        "colab": {
          "base_uri": "https://localhost:8080/"
        },
        "id": "nu6KihIh1NLi",
        "outputId": "a463384b-ec50-438c-f1a8-2e35e29ad106"
      },
      "outputs": [
        {
          "output_type": "stream",
          "name": "stdout",
          "text": [
            "Columns in X_train:\n",
            "['team', 'conf', 'GP', 'Min_per', 'Ortg', 'usg', 'eFG', 'TS_per', 'ORB_per', 'DRB_per', 'AST_per', 'TO_per', 'FTM', 'FTA', 'FT_per', 'twoPM', 'twoPA', 'twoP_per', 'TPM', 'TPA', 'TP_per', 'blk_per', 'stl_per', 'ftr', 'yr', 'ht', 'num', 'porpag', 'adjoe', 'pfr', 'year', 'type', 'pick', 'drtg', 'adrtg', 'dporpag', 'stops', 'bpm', 'obpm', 'dbpm', 'gbpm', 'mp', 'ogbpm', 'dgbpm', 'oreb', 'dreb', 'treb', 'ast', 'stl', 'blk', 'pts']\n",
            "Columns in X_test:\n",
            "['team', 'conf', 'GP', 'Min_per', 'Ortg', 'usg', 'eFG', 'TS_per', 'ORB_per', 'DRB_per', 'AST_per', 'TO_per', 'FTM', 'FTA', 'FT_per', 'twoPM', 'twoPA', 'twoP_per', 'TPM', 'TPA', 'TP_per', 'blk_per', 'stl_per', 'ftr', 'yr', 'ht', 'num', 'porpag', 'adjoe', 'pfr', 'year', 'type', 'pick', 'drtg', 'adrtg', 'dporpag', 'stops', 'bpm', 'obpm', 'dbpm', 'gbpm', 'mp', 'ogbpm', 'dgbpm', 'oreb', 'dreb', 'treb', 'ast', 'stl', 'blk', 'pts']\n",
            "Common columns:\n",
            "['team', 'conf', 'GP', 'Min_per', 'Ortg', 'usg', 'eFG', 'TS_per', 'ORB_per', 'DRB_per', 'AST_per', 'TO_per', 'FTM', 'FTA', 'FT_per', 'twoPM', 'twoPA', 'twoP_per', 'TPM', 'TPA', 'TP_per', 'blk_per', 'stl_per', 'ftr', 'yr', 'ht', 'num', 'porpag', 'adjoe', 'pfr', 'year', 'type', 'pick', 'drtg', 'adrtg', 'dporpag', 'stops', 'bpm', 'obpm', 'dbpm', 'gbpm', 'mp', 'ogbpm', 'dgbpm', 'oreb', 'dreb', 'treb', 'ast', 'stl', 'blk', 'pts']\n"
          ]
        }
      ],
      "source": [
        "print(\"Columns in X_train:\")\n",
        "print(X_train.columns.tolist())\n",
        "print(\"Columns in X_test:\")\n",
        "print(X_test.columns.tolist())\n",
        "print(\"Common columns:\")\n",
        "print(common_columns)"
      ]
    },
    {
      "cell_type": "markdown",
      "metadata": {
        "id": "GPZPUAUT3Hye"
      },
      "source": [
        "Ensure features are aligned"
      ]
    },
    {
      "cell_type": "code",
      "execution_count": 57,
      "metadata": {
        "id": "pXsSPvh91ocv"
      },
      "outputs": [],
      "source": [
        "X_train = X_train[common_columns]\n",
        "X_test = X_test[common_columns]"
      ]
    },
    {
      "cell_type": "markdown",
      "source": [
        "Split the data into training and validation sets"
      ],
      "metadata": {
        "id": "cu8TOaZzj1dN"
      }
    },
    {
      "cell_type": "code",
      "source": [
        "X_train, X_val, y_train, y_val = train_test_split(X_train, y_train, test_size=0.2, random_state=42)"
      ],
      "metadata": {
        "id": "VV9kw0Ewj32C"
      },
      "execution_count": 58,
      "outputs": []
    },
    {
      "cell_type": "markdown",
      "metadata": {
        "id": "rwnJtm-b3KOs"
      },
      "source": [
        "Apply transformations"
      ]
    },
    {
      "cell_type": "code",
      "execution_count": 59,
      "metadata": {
        "colab": {
          "base_uri": "https://localhost:8080/"
        },
        "id": "nXsW3WSf3w-P",
        "outputId": "07a87c0e-5f7d-4ff1-9f4f-7b2e9f55a710"
      },
      "outputs": [
        {
          "output_type": "stream",
          "name": "stdout",
          "text": [
            "\n",
            "ColumnTransformer steps:\n",
            " - num: ['GP', 'Min_per', 'Ortg', 'usg', 'eFG', 'TS_per', 'ORB_per', 'DRB_per', 'AST_per', 'TO_per', 'FTM', 'FTA', 'FT_per', 'twoPM', 'twoPA', 'twoP_per', 'TPM', 'TPA', 'TP_per', 'blk_per', 'stl_per', 'ftr', 'porpag', 'adjoe', 'pfr', 'year', 'pick', 'drtg', 'adrtg', 'dporpag', 'stops', 'bpm', 'obpm', 'dbpm', 'gbpm', 'mp', 'ogbpm', 'dgbpm', 'oreb', 'dreb', 'treb', 'ast', 'stl', 'blk', 'pts']\n",
            " - cat: ['team', 'conf', 'yr', 'ht', 'num', 'type']\n"
          ]
        }
      ],
      "source": [
        "print(\"\\nColumnTransformer steps:\")\n",
        "for name, transformer, columns in preprocessor.transformers:\n",
        "    print(f\" - {name}: {columns}\")"
      ]
    },
    {
      "cell_type": "code",
      "execution_count": 60,
      "metadata": {
        "colab": {
          "base_uri": "https://localhost:8080/"
        },
        "id": "JMngLAQN3K11",
        "outputId": "7fbacbc3-6c08-43b2-eeb5-ed95141624f5"
      },
      "outputs": [
        {
          "output_type": "stream",
          "name": "stdout",
          "text": [
            "False\n",
            "False\n",
            "False\n"
          ]
        }
      ],
      "source": [
        "print('player_id' in X_train.columns)\n",
        "print('player_id' in X_test.columns)\n",
        "print ('player_id' in X_val.columns)"
      ]
    },
    {
      "cell_type": "markdown",
      "metadata": {
        "id": "eZkGQsHU4_Zy"
      },
      "source": [
        "Find the index of the transformer that was operating on 'player_id'"
      ]
    },
    {
      "cell_type": "markdown",
      "metadata": {
        "id": "wmsALJI66D7n"
      },
      "source": [
        "apply transformations"
      ]
    },
    {
      "cell_type": "code",
      "execution_count": 61,
      "metadata": {
        "id": "kkTeLt8a6Eu7"
      },
      "outputs": [],
      "source": [
        "X_train_transformed = preprocessor.fit_transform(X_train)\n",
        "X_val_transformed = preprocessor.transform(X_val)\n",
        "X_test_transformed = preprocessor.transform(X_test)"
      ]
    },
    {
      "cell_type": "code",
      "execution_count": 62,
      "metadata": {
        "colab": {
          "base_uri": "https://localhost:8080/"
        },
        "id": "N9xehPE29Jqc",
        "outputId": "849cc88b-cda5-44f6-ff9d-ebef4fb3cbae"
      },
      "outputs": [
        {
          "output_type": "stream",
          "name": "stdout",
          "text": [
            "\n",
            "Transformed X_train shape: (37294, 561)\n",
            "Transformed X_val shape: (9324, 561)\n",
            "Transformed X_test shape: (4970, 561)\n"
          ]
        }
      ],
      "source": [
        "print(\"\\nTransformed X_train shape:\", X_train_transformed.shape)\n",
        "print(\"Transformed X_val shape:\", X_val_transformed.shape)\n",
        "print(\"Transformed X_test shape:\", X_test_transformed.shape)"
      ]
    },
    {
      "cell_type": "markdown",
      "metadata": {
        "id": "CT3DmkfF9NQz"
      },
      "source": [
        "Train Polynomial Regression Model\n"
      ]
    },
    {
      "cell_type": "markdown",
      "metadata": {
        "id": "MAnLyUWt9Vg0"
      },
      "source": [
        "Import polynomialfeatures"
      ]
    },
    {
      "cell_type": "code",
      "execution_count": 63,
      "metadata": {
        "id": "oA1G_Kwy9Z3g"
      },
      "outputs": [],
      "source": [
        "from sklearn.preprocessing import PolynomialFeatures"
      ]
    },
    {
      "cell_type": "code",
      "execution_count": 64,
      "metadata": {
        "id": "u3xgG5KT9Oob"
      },
      "outputs": [],
      "source": [
        "poly = PolynomialFeatures(degree=2)\n",
        "X_train_poly = poly.fit_transform(X_train_transformed)\n",
        "X_val_poly = poly.fit_transform(X_val_transformed)\n",
        "X_test_poly = poly.transform(X_test_transformed)"
      ]
    },
    {
      "cell_type": "markdown",
      "metadata": {
        "id": "fKwALtRe9k5H"
      },
      "source": [
        "Import Logistic Rregression"
      ]
    },
    {
      "cell_type": "code",
      "execution_count": 65,
      "metadata": {
        "id": "vcp2mxtm9kRX"
      },
      "outputs": [],
      "source": [
        "from sklearn.linear_model import LogisticRegression"
      ]
    },
    {
      "cell_type": "code",
      "execution_count": 66,
      "metadata": {
        "colab": {
          "base_uri": "https://localhost:8080/",
          "height": 74
        },
        "id": "eZ-9Z5jk9fec",
        "outputId": "8c372ca0-25d1-43e5-ff3d-7daecc48750f"
      },
      "outputs": [
        {
          "output_type": "execute_result",
          "data": {
            "text/plain": [
              "LogisticRegression(max_iter=10000, random_state=42)"
            ],
            "text/html": [
              "<style>#sk-container-id-1 {color: black;}#sk-container-id-1 pre{padding: 0;}#sk-container-id-1 div.sk-toggleable {background-color: white;}#sk-container-id-1 label.sk-toggleable__label {cursor: pointer;display: block;width: 100%;margin-bottom: 0;padding: 0.3em;box-sizing: border-box;text-align: center;}#sk-container-id-1 label.sk-toggleable__label-arrow:before {content: \"▸\";float: left;margin-right: 0.25em;color: #696969;}#sk-container-id-1 label.sk-toggleable__label-arrow:hover:before {color: black;}#sk-container-id-1 div.sk-estimator:hover label.sk-toggleable__label-arrow:before {color: black;}#sk-container-id-1 div.sk-toggleable__content {max-height: 0;max-width: 0;overflow: hidden;text-align: left;background-color: #f0f8ff;}#sk-container-id-1 div.sk-toggleable__content pre {margin: 0.2em;color: black;border-radius: 0.25em;background-color: #f0f8ff;}#sk-container-id-1 input.sk-toggleable__control:checked~div.sk-toggleable__content {max-height: 200px;max-width: 100%;overflow: auto;}#sk-container-id-1 input.sk-toggleable__control:checked~label.sk-toggleable__label-arrow:before {content: \"▾\";}#sk-container-id-1 div.sk-estimator input.sk-toggleable__control:checked~label.sk-toggleable__label {background-color: #d4ebff;}#sk-container-id-1 div.sk-label input.sk-toggleable__control:checked~label.sk-toggleable__label {background-color: #d4ebff;}#sk-container-id-1 input.sk-hidden--visually {border: 0;clip: rect(1px 1px 1px 1px);clip: rect(1px, 1px, 1px, 1px);height: 1px;margin: -1px;overflow: hidden;padding: 0;position: absolute;width: 1px;}#sk-container-id-1 div.sk-estimator {font-family: monospace;background-color: #f0f8ff;border: 1px dotted black;border-radius: 0.25em;box-sizing: border-box;margin-bottom: 0.5em;}#sk-container-id-1 div.sk-estimator:hover {background-color: #d4ebff;}#sk-container-id-1 div.sk-parallel-item::after {content: \"\";width: 100%;border-bottom: 1px solid gray;flex-grow: 1;}#sk-container-id-1 div.sk-label:hover label.sk-toggleable__label {background-color: #d4ebff;}#sk-container-id-1 div.sk-serial::before {content: \"\";position: absolute;border-left: 1px solid gray;box-sizing: border-box;top: 0;bottom: 0;left: 50%;z-index: 0;}#sk-container-id-1 div.sk-serial {display: flex;flex-direction: column;align-items: center;background-color: white;padding-right: 0.2em;padding-left: 0.2em;position: relative;}#sk-container-id-1 div.sk-item {position: relative;z-index: 1;}#sk-container-id-1 div.sk-parallel {display: flex;align-items: stretch;justify-content: center;background-color: white;position: relative;}#sk-container-id-1 div.sk-item::before, #sk-container-id-1 div.sk-parallel-item::before {content: \"\";position: absolute;border-left: 1px solid gray;box-sizing: border-box;top: 0;bottom: 0;left: 50%;z-index: -1;}#sk-container-id-1 div.sk-parallel-item {display: flex;flex-direction: column;z-index: 1;position: relative;background-color: white;}#sk-container-id-1 div.sk-parallel-item:first-child::after {align-self: flex-end;width: 50%;}#sk-container-id-1 div.sk-parallel-item:last-child::after {align-self: flex-start;width: 50%;}#sk-container-id-1 div.sk-parallel-item:only-child::after {width: 0;}#sk-container-id-1 div.sk-dashed-wrapped {border: 1px dashed gray;margin: 0 0.4em 0.5em 0.4em;box-sizing: border-box;padding-bottom: 0.4em;background-color: white;}#sk-container-id-1 div.sk-label label {font-family: monospace;font-weight: bold;display: inline-block;line-height: 1.2em;}#sk-container-id-1 div.sk-label-container {text-align: center;}#sk-container-id-1 div.sk-container {/* jupyter's `normalize.less` sets `[hidden] { display: none; }` but bootstrap.min.css set `[hidden] { display: none !important; }` so we also need the `!important` here to be able to override the default hidden behavior on the sphinx rendered scikit-learn.org. See: https://github.com/scikit-learn/scikit-learn/issues/21755 */display: inline-block !important;position: relative;}#sk-container-id-1 div.sk-text-repr-fallback {display: none;}</style><div id=\"sk-container-id-1\" class=\"sk-top-container\"><div class=\"sk-text-repr-fallback\"><pre>LogisticRegression(max_iter=10000, random_state=42)</pre><b>In a Jupyter environment, please rerun this cell to show the HTML representation or trust the notebook. <br />On GitHub, the HTML representation is unable to render, please try loading this page with nbviewer.org.</b></div><div class=\"sk-container\" hidden><div class=\"sk-item\"><div class=\"sk-estimator sk-toggleable\"><input class=\"sk-toggleable__control sk-hidden--visually\" id=\"sk-estimator-id-1\" type=\"checkbox\" checked><label for=\"sk-estimator-id-1\" class=\"sk-toggleable__label sk-toggleable__label-arrow\">LogisticRegression</label><div class=\"sk-toggleable__content\"><pre>LogisticRegression(max_iter=10000, random_state=42)</pre></div></div></div></div></div>"
            ]
          },
          "metadata": {},
          "execution_count": 66
        }
      ],
      "source": [
        "poly_model = LogisticRegression(max_iter=10000, random_state=42)\n",
        "poly_model.fit(X_train_poly, y_train)"
      ]
    },
    {
      "cell_type": "markdown",
      "metadata": {
        "id": "YcuwfswnAKks"
      },
      "source": [
        "\n",
        "# Predict probabilities"
      ]
    },
    {
      "cell_type": "markdown",
      "source": [
        "Prediction Probability in training set"
      ],
      "metadata": {
        "id": "D1m4ObYakWA7"
      }
    },
    {
      "cell_type": "code",
      "execution_count": 67,
      "metadata": {
        "id": "q4MrGVr3AMG4"
      },
      "outputs": [],
      "source": [
        "y_train_pred_prob = poly_model.predict_proba(X_train_poly)[:, 1]"
      ]
    },
    {
      "cell_type": "markdown",
      "source": [
        "Predict Probability in Validation Set"
      ],
      "metadata": {
        "id": "ivmun0PakaQm"
      }
    },
    {
      "cell_type": "code",
      "source": [
        "y_val_pred_prob = poly_model.predict_proba(X_val_poly)[:, 1]"
      ],
      "metadata": {
        "id": "SScDAy94kYgB"
      },
      "execution_count": 70,
      "outputs": []
    },
    {
      "cell_type": "markdown",
      "metadata": {
        "id": "Ep4Q_8J7Ar3V"
      },
      "source": [
        "Calculate AUROC on the training set"
      ]
    },
    {
      "cell_type": "markdown",
      "metadata": {
        "id": "ylGdRegmCk8D"
      },
      "source": [
        "Import AUROC"
      ]
    },
    {
      "cell_type": "code",
      "execution_count": 71,
      "metadata": {
        "id": "-2v39fZdCmvW"
      },
      "outputs": [],
      "source": [
        "from sklearn.metrics import roc_auc_score"
      ]
    },
    {
      "cell_type": "code",
      "execution_count": 72,
      "metadata": {
        "colab": {
          "base_uri": "https://localhost:8080/"
        },
        "id": "iHqAGI_DBB9q",
        "outputId": "d0addbd0-04cf-46d9-eb01-e99c9e396932"
      },
      "outputs": [
        {
          "output_type": "stream",
          "name": "stdout",
          "text": [
            "Polynomial Regression Model (Degree=2) Training AUROC: 1.0\n"
          ]
        }
      ],
      "source": [
        "train_auc = roc_auc_score(y_train, y_train_pred_prob)\n",
        "print(f\"Polynomial Regression Model (Degree=2) Training AUROC: {train_auc}\")"
      ]
    },
    {
      "cell_type": "code",
      "source": [
        "val_auc = roc_auc_score(y_val, y_val_pred_prob)\n",
        "print(f\"Polynomial Regression Model (Degree=2) Validation AUROC: {val_auc}\")"
      ],
      "metadata": {
        "colab": {
          "base_uri": "https://localhost:8080/"
        },
        "id": "szQdNgLWksHO",
        "outputId": "af06b191-57ca-441a-8d71-f2e6d8de8b16"
      },
      "execution_count": 73,
      "outputs": [
        {
          "output_type": "stream",
          "name": "stdout",
          "text": [
            "Polynomial Regression Model (Degree=2) Validation AUROC: 0.978292531499696\n"
          ]
        }
      ]
    },
    {
      "cell_type": "markdown",
      "source": [
        "Plot AUROC Curve"
      ],
      "metadata": {
        "id": "bfzwy2S5kz6q"
      }
    },
    {
      "cell_type": "code",
      "execution_count": 74,
      "metadata": {
        "id": "-BXSa--6DC8Z"
      },
      "outputs": [],
      "source": [
        "from sklearn.metrics import roc_auc_score, roc_curve"
      ]
    },
    {
      "cell_type": "code",
      "source": [
        "fpr, tpr, _ = roc_curve(y_val, y_val_pred_prob)\n",
        "plt.figure(figsize=(10, 6))\n",
        "plt.plot(fpr, tpr, color='blue', label='Polynomial Regression (AUROC = {:.2f})'.format(val_auc))\n",
        "plt.plot([0, 1], [0, 1], color='grey', linestyle='--')\n",
        "plt.xlim([0.0, 1.0])\n",
        "plt.ylim([0.0, 1.05])\n",
        "plt.xlabel('False Positive Rate')\n",
        "plt.ylabel('True Positive Rate')\n",
        "plt.title('Receiver Operating Characteristic (ROC) Curve')\n",
        "plt.legend(loc='lower right')\n",
        "plt.grid()\n",
        "plt.show()"
      ],
      "metadata": {
        "colab": {
          "base_uri": "https://localhost:8080/",
          "height": 564
        },
        "id": "kl4KAIGTk81K",
        "outputId": "3e8289bc-7d9e-4f91-d659-1c09ca7f6ed6"
      },
      "execution_count": 77,
      "outputs": [
        {
          "output_type": "display_data",
          "data": {
            "text/plain": [
              "<Figure size 1000x600 with 1 Axes>"
            ],
            "image/png": "[encoded data removed]"
          },
          "metadata": {}
        }
      ]
    },
    {
      "cell_type": "code",
      "execution_count": 78,
      "metadata": {
        "colab": {
          "base_uri": "https://localhost:8080/"
        },
        "id": "YzO5fTWVDaVx",
        "outputId": "ee0a1aaa-5877-4479-95ee-c300aff83104"
      },
      "outputs": [
        {
          "output_type": "stream",
          "name": "stdout",
          "text": [
            "42016    0.0\n",
            "4048     0.0\n",
            "33056    0.0\n",
            "44025    0.0\n",
            "27493    0.0\n",
            "        ... \n",
            "11284    0.0\n",
            "44732    0.0\n",
            "38158    0.0\n",
            "860      0.0\n",
            "15795    0.0\n",
            "Name: drafted, Length: 37294, dtype: float64\n"
          ]
        }
      ],
      "source": [
        "print(y_train)"
      ]
    },
    {
      "cell_type": "code",
      "execution_count": 79,
      "metadata": {
        "id": "lKGdPAJhC552"
      },
      "outputs": [],
      "source": [
        "test_pred_prob = poly_model.predict_proba(X_test_poly)[:, 1]"
      ]
    },
    {
      "cell_type": "markdown",
      "metadata": {
        "id": "lJ10VmkYEzjD"
      },
      "source": [
        " Prepare submission DataFrame"
      ]
    },
    {
      "cell_type": "code",
      "execution_count": 83,
      "metadata": {
        "id": "bpRXPL4-E2di"
      },
      "outputs": [],
      "source": [
        "submission = pd.DataFrame({\n",
        "    'player_id': df_cleaned_test['player_id'],\n",
        "    'drafted': test_pred_prob\n",
        "})"
      ]
    },
    {
      "cell_type": "code",
      "execution_count": 84,
      "metadata": {
        "id": "mfA5J-_vE5js"
      },
      "outputs": [],
      "source": [
        "submission.to_csv('submission.csv', index=False)"
      ]
    }
  ],
  "metadata": {
    "colab": {
      "provenance": []
    },
    "kernelspec": {
      "display_name": "Python 3 (ipykernel)",
      "language": "python",
      "name": "python3"
    },
    "language_info": {
      "codemirror_mode": {
        "name": "ipython",
        "version": 3
      },
      "file_extension": ".py",
      "mimetype": "text/x-python",
      "name": "python",
      "nbconvert_exporter": "python",
      "pygments_lexer": "ipython3",
      "version": "3.11.4"
    }
  },
  "nbformat": 4,
  "nbformat_minor": 0
}