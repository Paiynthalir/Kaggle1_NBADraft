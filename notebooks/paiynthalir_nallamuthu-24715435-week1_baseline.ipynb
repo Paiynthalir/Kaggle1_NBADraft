{
 "cells": [
  {
   "cell_type": "markdown",
   "id": "f510a1fa-e1c4-435e-81de-9501f24d0987",
   "metadata": {},
   "source": [
    "1. Loading the dataset"
   ]
  },
  {
   "cell_type": "markdown",
   "id": "82a7c912-2875-46e3-b289-beaf0a7319fe",
   "metadata": {},
   "source": [
    "1.1. Launch commands to automatically reload modules"
   ]
  },
  {
   "cell_type": "code",
   "execution_count": 2,
   "id": "45777ecb-8957-4013-99e4-266adc6060fb",
   "metadata": {},
   "outputs": [
    {
     "name": "stdout",
     "output_type": "stream",
     "text": [
      "The autoreload extension is already loaded. To reload it, use:\n",
      "  %reload_ext autoreload\n"
     ]
    }
   ],
   "source": [
    "%load_ext autoreload\n",
    "%autoreload 2"
   ]
  },
  {
   "cell_type": "markdown",
   "id": "7fa6f78b-6f05-4129-a577-638443896287",
   "metadata": {},
   "source": [
    "1.2. Import the pandas and numpy package"
   ]
  },
  {
   "cell_type": "code",
   "execution_count": 4,
   "id": "f5f4fec8-6f8c-431a-a468-ff1d5d8978ca",
   "metadata": {},
   "outputs": [],
   "source": [
    "import pandas as pd\n",
    "import numpy as np"
   ]
  },
  {
   "cell_type": "markdown",
   "id": "49b7d332-5667-4698-8cf0-382e15c4be49",
   "metadata": {},
   "source": [
    "1.3. Load the training and test dataset into a dataframes called df_train and df_test"
   ]
  },
  {
   "cell_type": "code",
   "execution_count": 5,
   "id": "520e476f-84aa-43d3-ba50-f5e5b948c690",
   "metadata": {},
   "outputs": [
    {
     "name": "stderr",
     "output_type": "stream",
     "text": [
      "C:\\Users\\paiyn\\AppData\\Local\\Temp\\ipykernel_10728\\1557408954.py:1: DtypeWarning: Columns (26) have mixed types. Specify dtype option on import or set low_memory=False.\n",
      "  df_train = pd.read_csv('../data/raw/train.csv')\n"
     ]
    }
   ],
   "source": [
    "df_train = pd.read_csv('../data/raw/train.csv')\n",
    "df_test = pd.read_csv('../data/raw/test.csv')"
   ]
  },
  {
   "cell_type": "code",
   "execution_count": null,
   "id": "9a245db0-1c5d-4f8d-961f-1e582b572401",
   "metadata": {},
   "outputs": [],
   "source": []
  }
 ],
 "metadata": {
  "kernelspec": {
   "display_name": "Python 3 (ipykernel)",
   "language": "python",
   "name": "python3"
  },
  "language_info": {
   "codemirror_mode": {
    "name": "ipython",
    "version": 3
   },
   "file_extension": ".py",
   "mimetype": "text/x-python",
   "name": "python",
   "nbconvert_exporter": "python",
   "pygments_lexer": "ipython3",
   "version": "3.11.5"
  }
 },
 "nbformat": 4,
 "nbformat_minor": 5
}
