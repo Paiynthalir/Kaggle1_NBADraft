{
 "cells": [
  {
   "cell_type": "markdown",
   "id": "3e660908-1570-4397-89a1-4d2e680af7a7",
   "metadata": {},
   "source": [
    "1. Loading the dataset"
   ]
  },
  {
   "cell_type": "code",
   "execution_count": 1,
   "id": "c501d5b9-c451-459d-9095-4c4e1b30ce0c",
   "metadata": {},
   "outputs": [],
   "source": [
    "# 1.1. Launch commands to automatically reload modules\n",
    "%load_ext autoreload\n",
    "%autoreload 2"
   ]
  },
  {
   "cell_type": "code",
   "execution_count": 2,
   "id": "b21daea4-e395-4838-8483-9f595e849935",
   "metadata": {},
   "outputs": [],
   "source": [
    "# 1.2. Import the packages\n",
    "import pandas as pd\n",
    "import numpy as np\n",
    "import matplotlib.pyplot as plt"
   ]
  },
  {
   "cell_type": "code",
   "execution_count": 3,
   "id": "17bdf214-23ae-42b4-85ff-13d3db62c837",
   "metadata": {},
   "outputs": [],
   "source": [
    "# 1.3. Load the training, target and test dataset into a dataframes called df_train, df_test and df_target\n",
    "# Load the Parquet files into DataFrames\n",
    "df_train = pd.read_parquet('../data/interim/train_cleaned.parquet')\n",
    "df_target = pd.read_parquet('../data/interim/target.parquet')"
   ]
  },
  {
   "cell_type": "code",
   "execution_count": 4,
   "id": "4c658f96-ea7a-4948-8509-71728a767ec6",
   "metadata": {},
   "outputs": [
    {
     "data": {
      "text/plain": [
       "(46618, 31)"
      ]
     },
     "execution_count": 4,
     "metadata": {},
     "output_type": "execute_result"
    }
   ],
   "source": [
    "df_train.shape"
   ]
  },
  {
   "cell_type": "code",
   "execution_count": 5,
   "id": "2f7fa051-1420-44d6-9639-66f1b5c78e4f",
   "metadata": {},
   "outputs": [
    {
     "data": {
      "text/plain": [
       "(46618, 1)"
      ]
     },
     "execution_count": 5,
     "metadata": {},
     "output_type": "execute_result"
    }
   ],
   "source": [
    "df_target.shape"
   ]
  },
  {
   "cell_type": "markdown",
   "id": "cfce1c1f-9640-4f13-bbf5-b0ecd96b55e8",
   "metadata": {},
   "source": [
    "2. Spliting the training data into train and validation datasets"
   ]
  },
  {
   "cell_type": "code",
   "execution_count": 6,
   "id": "ac69686f-9302-4d54-83a7-c6194f0c371f",
   "metadata": {},
   "outputs": [],
   "source": [
    "# Import train_test_split from sklearn.model_selection\n",
    "from sklearn.model_selection import train_test_split"
   ]
  },
  {
   "cell_type": "code",
   "execution_count": 7,
   "id": "f1329495-b36f-4493-97a9-0c5dce9e9b89",
   "metadata": {},
   "outputs": [],
   "source": [
    "#Split the features and target variable into 2 different sets (training and validation) with 80-20 ratio\n",
    "X_train, X_val, y_train, y_val = train_test_split(df_train, df_target, test_size=0.2, random_state=42)"
   ]
  },
  {
   "cell_type": "code",
   "execution_count": 8,
   "id": "c8f3a161-71a9-4211-9bcb-6b42fcee1095",
   "metadata": {},
   "outputs": [
    {
     "data": {
      "text/plain": [
       "(37294, 31)"
      ]
     },
     "execution_count": 8,
     "metadata": {},
     "output_type": "execute_result"
    }
   ],
   "source": [
    "X_train.shape"
   ]
  },
  {
   "cell_type": "code",
   "execution_count": 9,
   "id": "303aac2a-2d4e-425b-a585-6250f2566e80",
   "metadata": {},
   "outputs": [
    {
     "data": {
      "text/plain": [
       "(9324, 31)"
      ]
     },
     "execution_count": 9,
     "metadata": {},
     "output_type": "execute_result"
    }
   ],
   "source": [
    "X_val.shape"
   ]
  },
  {
   "cell_type": "code",
   "execution_count": 10,
   "id": "dbc73a97-85da-4c10-982b-ed08c3d7a623",
   "metadata": {},
   "outputs": [
    {
     "data": {
      "text/plain": [
       "(37294, 1)"
      ]
     },
     "execution_count": 10,
     "metadata": {},
     "output_type": "execute_result"
    }
   ],
   "source": [
    "y_train.shape"
   ]
  },
  {
   "cell_type": "code",
   "execution_count": 11,
   "id": "c4f17f97-8fda-4c8c-8afa-733758f162ec",
   "metadata": {},
   "outputs": [
    {
     "data": {
      "text/plain": [
       "(9324, 1)"
      ]
     },
     "execution_count": 11,
     "metadata": {},
     "output_type": "execute_result"
    }
   ],
   "source": [
    "y_val.shape"
   ]
  },
  {
   "cell_type": "markdown",
   "id": "7979f2be-b4b7-4b1d-b26c-8020f277d559",
   "metadata": {},
   "source": [
    "3. Access Baseline Model"
   ]
  },
  {
   "cell_type": "code",
   "execution_count": 12,
   "id": "13855115-d692-4f88-86b4-32248dc0da49",
   "metadata": {},
   "outputs": [],
   "source": [
    "# 3.1 Find the mode of the target variable and save it into a variable called y_mode\n",
    "y_mode = y_train.mode()\n",
    "\n",
    "# 3.2 Create a numpy array called y_base filled with this value of same length of y_train\n",
    "y_base = np.full(y_train.shape, y_mode)"
   ]
  },
  {
   "cell_type": "code",
   "execution_count": 13,
   "id": "42e12480-21e3-4c67-8f60-91b2733faefc",
   "metadata": {},
   "outputs": [],
   "source": [
    "# Unit Tests\n",
    "assert isinstance(y_base, np.ndarray)\n",
    "assert y_base.shape == y_train.shape"
   ]
  },
  {
   "cell_type": "code",
   "execution_count": 14,
   "id": "f9fe7c03-4e79-4c44-aa8b-b98ba099dd1d",
   "metadata": {},
   "outputs": [],
   "source": [
    "# 3.3 To plot ROC curve and the AUC metric\n",
    "from sklearn import metrics"
   ]
  },
  {
   "cell_type": "code",
   "execution_count": 15,
   "id": "70618176-e779-40ff-8bbb-d78ea19f8a77",
   "metadata": {},
   "outputs": [
    {
     "data": {
      "text/plain": [
       "<matplotlib.legend.Legend at 0x1d241353c10>"
      ]
     },
     "execution_count": 15,
     "metadata": {},
     "output_type": "execute_result"
    },
    {
     "data": {
      "image/png": "[encoded data removed]",
      "text/plain": [
       "<Figure size 640x480 with 1 Axes>"
      ]
     },
     "metadata": {},
     "output_type": "display_data"
    }
   ],
   "source": [
    "plt.figure(0). clear() \n",
    "fpr, tpr, _ = metrics.roc_curve(y_train, y_base)\n",
    "auc = round(metrics.roc_auc_score(y_train, y_base), 4)\n",
    "recall = round(metrics.recall_score(y_train, y_base, average='weighted'),4)\n",
    "plt.plot(fpr,tpr,label=\"Baseline , AUC=\"+str(auc)+\", Recall score =\"+str(recall))\n",
    "\n",
    "#add legend\n",
    "plt.legend()"
   ]
  },
  {
   "cell_type": "code",
   "execution_count": 16,
   "id": "a5221b30-24bc-4f4e-9a9f-a76999613870",
   "metadata": {},
   "outputs": [],
   "source": [
    "# 3.4 Saving the interim processed data\n",
    "# Paths for parquet files\n",
    "path1 = '../data/processed/X_train.parquet'\n",
    "path2 = '../data/processed/X_val.parquet'\n",
    "path3 = '../data/processed/y_train.parquet'\n",
    "path4 = '../data/processed/y_val.parquet'\n",
    "\n",
    "# Training data\n",
    "X_train.to_parquet(path1, index=False, engine='pyarrow')\n",
    "y_train.to_parquet(path3, index=False, engine='pyarrow')\n",
    "\n",
    "\n",
    "# Validation data\n",
    "X_val.to_parquet(path2, index=False, engine='pyarrow')\n",
    "y_val.to_parquet(path4, index=False, engine='pyarrow')\n",
    "\n"
   ]
  },
  {
   "cell_type": "markdown",
   "id": "0e8f8234-2686-4cac-bc24-ad6f556aef14",
   "metadata": {},
   "source": [
    "4. SMOTE"
   ]
  },
  {
   "cell_type": "code",
   "execution_count": 17,
   "id": "c2de79b2-dfc9-4b8f-aa08-0c2c17645d86",
   "metadata": {},
   "outputs": [
    {
     "name": "stdout",
     "output_type": "stream",
     "text": [
      "Before SMOTE:\n",
      "Class distribution in training data: drafted    342.0\n",
      "dtype: float64\n",
      "After SMOTE:\n",
      "Class distribution in resampled training data: drafted    36952.0\n",
      "dtype: float64\n"
     ]
    }
   ],
   "source": [
    "from imblearn.over_sampling import SMOTE\n",
    "\n",
    "# Initialize SMOTE\n",
    "smote = SMOTE(random_state=42)\n",
    "\n",
    "# Apply SMOTE to the training data\n",
    "X_train_resampled, y_train_resampled = smote.fit_resample(X_train, y_train)\n",
    "\n",
    "# For multiclass classification, compute the number of samples in each class\n",
    "# Sum across rows to get the distribution for each class\n",
    "def class_distribution(y):\n",
    "    return np.sum(y, axis=0)\n",
    "    \n",
    "# Check the number of samples in each class after resampling\n",
    "print(\"Before SMOTE:\")\n",
    "print(\"Class distribution in training data:\", class_distribution(y_train))\n",
    "\n",
    "print(\"After SMOTE:\")\n",
    "print(\"Class distribution in resampled training data:\", class_distribution(y_train_resampled))"
   ]
  },
  {
   "cell_type": "code",
   "execution_count": 18,
   "id": "ef99b479-e5d2-433c-830b-9211e519c6f9",
   "metadata": {},
   "outputs": [],
   "source": [
    "# 4.1 Saving the interim processed data\n",
    "# Paths for parquet files\n",
    "path1 = '../data/processed/X_train_resampled.parquet'\n",
    "path3 = '../data/processed/y_train_resampled.parquet'\n",
    "\n",
    "\n",
    "# Training data - SMOTE resampled\n",
    "X_train.to_parquet(path1, index=False, engine='pyarrow')\n",
    "y_train.to_parquet(path3, index=False, engine='pyarrow')"
   ]
  }
 ],
 "metadata": {
  "kernelspec": {
   "display_name": "Python 3 (ipykernel)",
   "language": "python",
   "name": "python3"
  },
  "language_info": {
   "codemirror_mode": {
    "name": "ipython",
    "version": 3
   },
   "file_extension": ".py",
   "mimetype": "text/x-python",
   "name": "python",
   "nbconvert_exporter": "python",
   "pygments_lexer": "ipython3",
   "version": "3.11.5"
  }
 },
 "nbformat": 4,
 "nbformat_minor": 5
}
