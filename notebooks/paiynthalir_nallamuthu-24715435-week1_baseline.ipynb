{
 "cells": [
  {
   "cell_type": "markdown",
   "id": "3e660908-1570-4397-89a1-4d2e680af7a7",
   "metadata": {},
   "source": [
    "1. Loading the dataset"
   ]
  },
  {
   "cell_type": "code",
   "execution_count": 1,
   "id": "c501d5b9-c451-459d-9095-4c4e1b30ce0c",
   "metadata": {},
   "outputs": [],
   "source": [
    "# 1.1. Launch commands to automatically reload modules\n",
    "%load_ext autoreload\n",
    "%autoreload 2"
   ]
  },
  {
   "cell_type": "code",
   "execution_count": 2,
   "id": "b21daea4-e395-4838-8483-9f595e849935",
   "metadata": {},
   "outputs": [],
   "source": [
    "# 1.2. Import the packages\n",
    "import pandas as pd\n",
    "import numpy as np\n",
    "import matplotlib.pyplot as plt"
   ]
  },
  {
   "cell_type": "code",
   "execution_count": 3,
   "id": "17bdf214-23ae-42b4-85ff-13d3db62c837",
   "metadata": {},
   "outputs": [],
   "source": [
    "# 1.3. Load the training and test dataset into a dataframes called df_train, df_test and df_target\n",
    "df_train = pd.read_csv('../data/interim/train_cleaned.csv')\n",
    "df_test = pd.read_csv('../data/processed/test_cleaned.csv')\n",
    "df_target = pd.read_csv('../data/interim/target.csv')"
   ]
  },
  {
   "cell_type": "code",
   "execution_count": 4,
   "id": "4c658f96-ea7a-4948-8509-71728a767ec6",
   "metadata": {},
   "outputs": [
    {
     "data": {
      "text/plain": [
       "(46618, 93)"
      ]
     },
     "execution_count": 4,
     "metadata": {},
     "output_type": "execute_result"
    }
   ],
   "source": [
    "df_train.shape"
   ]
  },
  {
   "cell_type": "code",
   "execution_count": 5,
   "id": "8894e9ac-1680-4d8c-9818-568ae4c5016d",
   "metadata": {},
   "outputs": [
    {
     "data": {
      "text/plain": [
       "(4970, 93)"
      ]
     },
     "execution_count": 5,
     "metadata": {},
     "output_type": "execute_result"
    }
   ],
   "source": [
    "df_test.shape"
   ]
  },
  {
   "cell_type": "code",
   "execution_count": 6,
   "id": "2f7fa051-1420-44d6-9639-66f1b5c78e4f",
   "metadata": {},
   "outputs": [
    {
     "data": {
      "text/plain": [
       "(46618, 1)"
      ]
     },
     "execution_count": 6,
     "metadata": {},
     "output_type": "execute_result"
    }
   ],
   "source": [
    "df_target.shape"
   ]
  },
  {
   "cell_type": "markdown",
   "id": "cfce1c1f-9640-4f13-bbf5-b0ecd96b55e8",
   "metadata": {},
   "source": [
    "2. Spliting the training data into train and validation datasets"
   ]
  },
  {
   "cell_type": "code",
   "execution_count": 7,
   "id": "ac69686f-9302-4d54-83a7-c6194f0c371f",
   "metadata": {},
   "outputs": [],
   "source": [
    "# Import train_test_split from sklearn.model_selection\n",
    "from sklearn.model_selection import train_test_split"
   ]
  },
  {
   "cell_type": "code",
   "execution_count": 9,
   "id": "f1329495-b36f-4493-97a9-0c5dce9e9b89",
   "metadata": {},
   "outputs": [],
   "source": [
    "#Split the features and target variable into 2 different sets (training and validation) with 80-20 ratio\n",
    "X_train, X_val, y_train, y_val = train_test_split(df_train, df_target, test_size=0.2, random_state=42)"
   ]
  },
  {
   "cell_type": "code",
   "execution_count": 10,
   "id": "c8f3a161-71a9-4211-9bcb-6b42fcee1095",
   "metadata": {},
   "outputs": [
    {
     "data": {
      "text/plain": [
       "(37294, 93)"
      ]
     },
     "execution_count": 10,
     "metadata": {},
     "output_type": "execute_result"
    }
   ],
   "source": [
    "X_train.shape"
   ]
  },
  {
   "cell_type": "code",
   "execution_count": 11,
   "id": "303aac2a-2d4e-425b-a585-6250f2566e80",
   "metadata": {},
   "outputs": [
    {
     "data": {
      "text/plain": [
       "(9324, 93)"
      ]
     },
     "execution_count": 11,
     "metadata": {},
     "output_type": "execute_result"
    }
   ],
   "source": [
    "X_val.shape"
   ]
  },
  {
   "cell_type": "code",
   "execution_count": 12,
   "id": "dbc73a97-85da-4c10-982b-ed08c3d7a623",
   "metadata": {},
   "outputs": [
    {
     "data": {
      "text/plain": [
       "(37294, 1)"
      ]
     },
     "execution_count": 12,
     "metadata": {},
     "output_type": "execute_result"
    }
   ],
   "source": [
    "y_train.shape"
   ]
  },
  {
   "cell_type": "code",
   "execution_count": 13,
   "id": "c4f17f97-8fda-4c8c-8afa-733758f162ec",
   "metadata": {},
   "outputs": [
    {
     "data": {
      "text/plain": [
       "(9324, 1)"
      ]
     },
     "execution_count": 13,
     "metadata": {},
     "output_type": "execute_result"
    }
   ],
   "source": [
    "y_val.shape"
   ]
  }
 ],
 "metadata": {
  "kernelspec": {
   "display_name": "Python 3 (ipykernel)",
   "language": "python",
   "name": "python3"
  },
  "language_info": {
   "codemirror_mode": {
    "name": "ipython",
    "version": 3
   },
   "file_extension": ".py",
   "mimetype": "text/x-python",
   "name": "python",
   "nbconvert_exporter": "python",
   "pygments_lexer": "ipython3",
   "version": "3.11.5"
  }
 },
 "nbformat": 4,
 "nbformat_minor": 5
}
