{
 "cells": [
  {
   "cell_type": "markdown",
   "id": "03492ebb-65c1-4408-b331-1ef1ff335068",
   "metadata": {},
   "source": [
    "MAIN Notebook to compare different model results"
   ]
  },
  {
   "cell_type": "markdown",
   "id": "3e660908-1570-4397-89a1-4d2e680af7a7",
   "metadata": {},
   "source": [
    "1. Loading the dataset"
   ]
  },
  {
   "cell_type": "code",
   "execution_count": 1,
   "id": "c501d5b9-c451-459d-9095-4c4e1b30ce0c",
   "metadata": {},
   "outputs": [],
   "source": [
    "# 1.1. Launch commands to automatically reload modules\n",
    "%load_ext autoreload\n",
    "%autoreload 2"
   ]
  },
  {
   "cell_type": "code",
   "execution_count": 2,
   "id": "b21daea4-e395-4838-8483-9f595e849935",
   "metadata": {},
   "outputs": [],
   "source": [
    "# 1.2. Import the packages\n",
    "import pandas as pd\n",
    "import numpy as np\n",
    "import matplotlib.pyplot as plt\n",
    "import altair as alt\n",
    "import joblib"
   ]
  },
  {
   "cell_type": "code",
   "execution_count": 3,
   "id": "17bdf214-23ae-42b4-85ff-13d3db62c837",
   "metadata": {},
   "outputs": [],
   "source": [
    "# 1.3. Load the training, validation and test datasets into a dataframes \n",
    "# Load the Parquet files into DataFrames\n",
    "X_train = pd.read_parquet('../data/processed/X_train.parquet')\n",
    "X_val = pd.read_parquet('../data/processed/X_val.parquet')\n",
    "y_train = pd.read_parquet('../data/processed/y_train.parquet')\n",
    "y_val = pd.read_parquet('../data/processed/y_val.parquet')\n",
    "X_test = pd.read_parquet('../data/processed/test_cleaned.parquet')"
   ]
  },
  {
   "cell_type": "code",
   "execution_count": 4,
   "id": "ed4adca9-707a-4365-a298-89f275bfd2b6",
   "metadata": {},
   "outputs": [],
   "source": [
    "# taking out the player id out of the test data\n",
    "player_id_test = X_test.pop('player_id')"
   ]
  },
  {
   "cell_type": "code",
   "execution_count": 5,
   "id": "6bb02ea7-ce0f-4f96-b79c-060ac5bb069c",
   "metadata": {},
   "outputs": [
    {
     "data": {
      "text/plain": [
       "(9324,)"
      ]
     },
     "execution_count": 5,
     "metadata": {},
     "output_type": "execute_result"
    }
   ],
   "source": [
    "y_val = y_val.iloc[:, 0]  # Convert the single column DataFrame to a Series\n",
    "y_val.shape"
   ]
  },
  {
   "cell_type": "code",
   "execution_count": 6,
   "id": "0e1e7e8c-042e-4219-ae51-944c77fd170e",
   "metadata": {},
   "outputs": [
    {
     "data": {
      "text/plain": [
       "(37294,)"
      ]
     },
     "execution_count": 6,
     "metadata": {},
     "output_type": "execute_result"
    }
   ],
   "source": [
    "y_train = y_train.iloc[:, 0]  # Convert the single column DataFrame to a Series\n",
    "y_train.shape"
   ]
  },
  {
   "cell_type": "markdown",
   "id": "6359ec37-a412-49f3-92e9-4b917b94b978",
   "metadata": {},
   "source": [
    "2. Load the saved models, fit and evaluate each of their performances"
   ]
  },
  {
   "cell_type": "code",
   "execution_count": 7,
   "id": "6bcba061-3e5c-426d-ae05-fb6f31db8bd4",
   "metadata": {},
   "outputs": [],
   "source": [
    "# 2.1 Load the Models\n",
    "RamdomForest_Model = joblib.load('../models/randomForest.joblib')\n",
    "GradientBoost_Model = joblib.load('../models/GB.joblib')"
   ]
  },
  {
   "cell_type": "code",
   "execution_count": 8,
   "id": "8a5ff302-b662-459d-83ab-a738a7472c31",
   "metadata": {},
   "outputs": [],
   "source": [
    "# Select the probability for the positive class (class 1) \n",
    "y_train_probs_rf = RamdomForest_Model.predict_proba(X_train)[:, 1]\n",
    "y_val_probs_rf = RamdomForest_Model.predict_proba(X_val)[:, 1]"
   ]
  },
  {
   "cell_type": "code",
   "execution_count": 9,
   "id": "f77c105c-900d-4382-9b8d-6873ee51c5cf",
   "metadata": {},
   "outputs": [],
   "source": [
    "# Select the probability for the positive class (class 1) \n",
    "y_train_probs_gb = GradientBoost_Model.predict_proba(X_train)[:, 1]\n",
    "y_val_probs_gb = GradientBoost_Model.predict_proba(X_val)[:, 1]"
   ]
  },
  {
   "cell_type": "code",
   "execution_count": 10,
   "id": "d586ddee-caa5-4955-b420-35e38fb589ff",
   "metadata": {},
   "outputs": [],
   "source": [
    "# 3.4 Save the probability of the test data of various models\n",
    "y_test_probs_rf = RamdomForest_Model.predict_proba(X_test)[:, 1]"
   ]
  },
  {
   "cell_type": "code",
   "execution_count": 11,
   "id": "9b3d6f42-1b86-4679-aac6-a2a6b403bfa0",
   "metadata": {},
   "outputs": [],
   "source": [
    "# 3.4 Save the probability of the test data of various models\n",
    "y_test_probs_gb = GradientBoost_Model.predict_proba(X_test)[:, 1]"
   ]
  },
  {
   "cell_type": "code",
   "execution_count": 12,
   "id": "91ec99fc-4253-4739-aebd-0ca3aada2caf",
   "metadata": {},
   "outputs": [],
   "source": [
    "# 3.5 add the 'player_id'column  into the prediction probability\n",
    "# Convert y_test_prob_rf3 (which is a NumPy array) to a DataFrame\n",
    "y_test_probs_df_rf = pd.DataFrame(y_test_probs_rf, columns=['drafted'])\n",
    "y_test_probs_df_gb = pd.DataFrame(y_test_probs_gb, columns=['drafted'])\n",
    "\n",
    "# Concatenate player_id_test and y_test_prob_df along the columns\n",
    "Results_final_rf = pd.concat([player_id_test, y_test_probs_df_rf], axis=1)\n",
    "Results_final_gb = pd.concat([player_id_test, y_test_probs_df_gb], axis=1)"
   ]
  },
  {
   "cell_type": "code",
   "execution_count": 14,
   "id": "3f6bef30-2ca1-4134-a4e7-3147acb2a6a6",
   "metadata": {},
   "outputs": [],
   "source": [
    "#3.6 save the probability as CSV file\n",
    "\n",
    "# Convert to DataFrame and save\n",
    "pd.DataFrame(Results_final_rf).to_csv('../data/external/final/Results_final_rf.csv', index=False)\n",
    "pd.DataFrame(Results_final_gb).to_csv('../data/external/final/Results_final_gb.csv', index=False)\n"
   ]
  }
 ],
 "metadata": {
  "kernelspec": {
   "display_name": "Python 3 (ipykernel)",
   "language": "python",
   "name": "python3"
  },
  "language_info": {
   "codemirror_mode": {
    "name": "ipython",
    "version": 3
   },
   "file_extension": ".py",
   "mimetype": "text/x-python",
   "name": "python",
   "nbconvert_exporter": "python",
   "pygments_lexer": "ipython3",
   "version": "3.11.5"
  }
 },
 "nbformat": 4,
 "nbformat_minor": 5
}
