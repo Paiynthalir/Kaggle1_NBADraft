{
 "cells": [
  {
   "cell_type": "markdown",
   "id": "7a65d5f3",
   "metadata": {},
   "source": [
    "# 36120 AT1 Kaggle NBA prediction"
   ]
  },
  {
   "cell_type": "code",
   "execution_count": 2,
   "id": "9b9a1129",
   "metadata": {},
   "outputs": [],
   "source": [
    "import pandas as pd\n",
    "import numpy as np\n",
    "from sklearn.model_selection import train_test_split\n",
    "from sklearn.preprocessing import StandardScaler\n",
    "from sklearn.ensemble import RandomForestClassifier\n",
    "from sklearn.metrics import accuracy_score, precision_score, recall_score, f1_score"
   ]
  },
  {
   "cell_type": "code",
   "execution_count": 3,
   "id": "c46a3a0c",
   "metadata": {},
   "outputs": [
    {
     "name": "stdout",
     "output_type": "stream",
     "text": [
      "            team conf  GP  Min_per   Ortg   usg   eFG  TS_per  ORB_per  \\\n",
      "0  South Alabama   SB  26     29.5   97.3  16.6  42.5   44.43      1.6   \n",
      "1       Utah St.  WAC  34     60.9  108.3  14.9  52.4   54.48      3.8   \n",
      "2  South Florida   BE  27     72.0   96.2  21.8  45.7   47.98      2.1   \n",
      "3     Pepperdine  WCC  30     44.5   97.7  16.0  53.6   53.69      4.1   \n",
      "4        Pacific   BW  33     56.2   96.5  22.0  52.8   54.31      8.3   \n",
      "\n",
      "   DRB_per  ...     dgbpm    oreb    dreb    treb     ast     stl     blk  \\\n",
      "0      4.6  ... -1.941150  0.1923  0.6154  0.8077  1.1923  0.3462  0.0385   \n",
      "1      6.3  ... -0.247934  0.6765  1.2647  1.9412  1.8235  0.4118  0.2353   \n",
      "2      8.0  ... -0.883163  0.6296  2.3333  2.9630  1.9630  0.4815  0.0000   \n",
      "3      9.4  ... -0.393459  0.7000  1.4333  2.1333  1.1000  0.5667  0.1333   \n",
      "4     18.6  ... -0.668318  1.4242  3.3030  4.7273  0.8485  0.4545  0.3333   \n",
      "\n",
      "       pts                             player_id  drafted  \n",
      "0   3.8846  b2716b2d-3422-4959-9fe7-fe496414a4e8      0.0  \n",
      "1   5.9412  bb387960-e3a0-4ffd-96ae-184bad07cb8a      0.0  \n",
      "2  12.1852  89bbdf11-eadd-4de4-95e5-03f7e2874aa1      0.0  \n",
      "3   4.9333  0c87ada8-8446-4ea2-a05b-bd07aed5f37a      0.0  \n",
      "4   7.5758  84661e00-ad20-4308-817e-efa8da52a86c      0.0  \n",
      "\n",
      "[5 rows x 64 columns]\n",
      "<class 'pandas.core.frame.DataFrame'>\n",
      "RangeIndex: 46618 entries, 0 to 46617\n",
      "Data columns (total 64 columns):\n",
      " #   Column               Non-Null Count  Dtype  \n",
      "---  ------               --------------  -----  \n",
      " 0   team                 46618 non-null  object \n",
      " 1   conf                 46618 non-null  object \n",
      " 2   GP                   46618 non-null  int64  \n",
      " 3   Min_per              46618 non-null  float64\n",
      " 4   Ortg                 46618 non-null  float64\n",
      " 5   usg                  46618 non-null  float64\n",
      " 6   eFG                  46618 non-null  float64\n",
      " 7   TS_per               46618 non-null  float64\n",
      " 8   ORB_per              46618 non-null  float64\n",
      " 9   DRB_per              46618 non-null  float64\n",
      " 10  AST_per              46618 non-null  float64\n",
      " 11  TO_per               46618 non-null  float64\n",
      " 12  FTM                  46618 non-null  int64  \n",
      " 13  FTA                  46618 non-null  int64  \n",
      " 14  FT_per               46618 non-null  float64\n",
      " 15  twoPM                46618 non-null  int64  \n",
      " 16  twoPA                46618 non-null  int64  \n",
      " 17  twoP_per             46618 non-null  float64\n",
      " 18  TPM                  46618 non-null  int64  \n",
      " 19  TPA                  46618 non-null  int64  \n",
      " 20  TP_per               46618 non-null  float64\n",
      " 21  blk_per              46618 non-null  float64\n",
      " 22  stl_per              46618 non-null  float64\n",
      " 23  ftr                  46618 non-null  float64\n",
      " 24  yr                   46326 non-null  object \n",
      " 25  ht                   46554 non-null  object \n",
      " 26  num                  41939 non-null  object \n",
      " 27  porpag               46618 non-null  float64\n",
      " 28  adjoe                46618 non-null  float64\n",
      " 29  pfr                  46618 non-null  float64\n",
      " 30  year                 46618 non-null  int64  \n",
      " 31  type                 46618 non-null  object \n",
      " 32  Rec_Rank             14337 non-null  float64\n",
      " 33  ast_tov              43151 non-null  float64\n",
      " 34  rimmade              40860 non-null  float64\n",
      " 35  rimmade_rimmiss      40860 non-null  float64\n",
      " 36  midmade              40860 non-null  float64\n",
      " 37  midmade_midmiss      40860 non-null  float64\n",
      " 38  rim_ratio            38119 non-null  float64\n",
      " 39  mid_ratio            38050 non-null  float64\n",
      " 40  dunksmade            40860 non-null  float64\n",
      " 41  dunksmiss_dunksmade  40860 non-null  float64\n",
      " 42  dunks_ratio          20400 non-null  float64\n",
      " 43  pick                 1207 non-null   float64\n",
      " 44  drtg                 46576 non-null  float64\n",
      " 45  adrtg                46576 non-null  float64\n",
      " 46  dporpag              46576 non-null  float64\n",
      " 47  stops                46576 non-null  float64\n",
      " 48  bpm                  46576 non-null  float64\n",
      " 49  obpm                 46576 non-null  float64\n",
      " 50  dbpm                 46576 non-null  float64\n",
      " 51  gbpm                 46576 non-null  float64\n",
      " 52  mp                   46582 non-null  float64\n",
      " 53  ogbpm                46576 non-null  float64\n",
      " 54  dgbpm                46576 non-null  float64\n",
      " 55  oreb                 46582 non-null  float64\n",
      " 56  dreb                 46582 non-null  float64\n",
      " 57  treb                 46582 non-null  float64\n",
      " 58  ast                  46582 non-null  float64\n",
      " 59  stl                  46582 non-null  float64\n",
      " 60  blk                  46582 non-null  float64\n",
      " 61  pts                  46582 non-null  float64\n",
      " 62  player_id            46618 non-null  object \n",
      " 63  drafted              46618 non-null  float64\n",
      "dtypes: float64(49), int64(8), object(7)\n",
      "memory usage: 22.8+ MB\n",
      "None\n"
     ]
    },
    {
     "name": "stderr",
     "output_type": "stream",
     "text": [
      "C:\\Users\\13803\\AppData\\Local\\Temp\\ipykernel_10724\\195921245.py:2: DtypeWarning: Columns (26) have mixed types. Specify dtype option on import or set low_memory=False.\n",
      "  train_data = pd.read_csv('C:\\\\Users\\\\13803\\\\Downloads\\\\uts-36120-2024-spr\\\\train.csv')\n"
     ]
    }
   ],
   "source": [
    "# Load datasets\n",
    "train_data = pd.read_csv('C:\\\\Users\\\\13803\\\\Downloads\\\\uts-36120-2024-spr\\\\train.csv')\n",
    "test_data = pd.read_csv('C:\\\\Users\\\\13803\\\\Downloads\\\\uts-36120-2024-spr\\\\test.csv')\n",
    "\n",
    "# Quick overview of the dataset\n",
    "print(train_data.head())\n",
    "print(train_data.info())\n"
   ]
  },
  {
   "cell_type": "code",
   "execution_count": 4,
   "id": "39c4b6c0",
   "metadata": {},
   "outputs": [
    {
     "name": "stdout",
     "output_type": "stream",
     "text": [
      "team          0\n",
      "conf          0\n",
      "GP            0\n",
      "Min_per       0\n",
      "Ortg          0\n",
      "             ..\n",
      "stl          36\n",
      "blk          36\n",
      "pts          36\n",
      "player_id     0\n",
      "drafted       0\n",
      "Length: 64, dtype: int64\n"
     ]
    },
    {
     "name": "stderr",
     "output_type": "stream",
     "text": [
      "C:\\Users\\13803\\AppData\\Local\\Temp\\ipykernel_10724\\2399176690.py:4: FutureWarning: Dropping of nuisance columns in DataFrame reductions (with 'numeric_only=None') is deprecated; in a future version this will raise TypeError.  Select only valid columns before calling the reduction.\n",
      "  train_data.fillna(train_data.mean(), inplace=True)\n",
      "C:\\Users\\13803\\AppData\\Local\\Temp\\ipykernel_10724\\2399176690.py:5: FutureWarning: Dropping of nuisance columns in DataFrame reductions (with 'numeric_only=None') is deprecated; in a future version this will raise TypeError.  Select only valid columns before calling the reduction.\n",
      "  test_data.fillna(test_data.mean(), inplace=True)\n"
     ]
    }
   ],
   "source": [
    "# Check for missing values\n",
    "print(train_data.isnull().sum())\n",
    "\n",
    "train_data.fillna(train_data.mean(), inplace=True)\n",
    "test_data.fillna(test_data.mean(), inplace=True)"
   ]
  },
  {
   "cell_type": "code",
   "execution_count": 6,
   "id": "69f3d636",
   "metadata": {},
   "outputs": [],
   "source": [
    "# Selected numerical variables based on the heatmap\n",
    "selected_features = ['Ortg', 'eFG', 'FTM', 'FT_per', 'TP_per', 'stl_per', 'pfr', \n",
    "                     'Rec_Rank', 'dunksmade', 'bpm']\n",
    "\n",
    "X = train_data[selected_features]\n",
    "y = train_data['drafted']\n",
    "\n",
    "X_test = test_data[selected_features]"
   ]
  },
  {
   "cell_type": "code",
   "execution_count": 7,
   "id": "6027c70a",
   "metadata": {},
   "outputs": [],
   "source": [
    "# Scale the features\n",
    "scaler = StandardScaler()\n",
    "X_scaled = scaler.fit_transform(X)\n",
    "X_test_scaled = scaler.transform(X_test)"
   ]
  },
  {
   "cell_type": "code",
   "execution_count": 8,
   "id": "e1c13b8f",
   "metadata": {},
   "outputs": [],
   "source": [
    "# Split the data into train and validation sets\n",
    "X_train, X_val, y_train, y_val = train_test_split(X_scaled, y, test_size=0.2, random_state=42)"
   ]
  },
  {
   "cell_type": "code",
   "execution_count": 9,
   "id": "a9e85d0a",
   "metadata": {},
   "outputs": [],
   "source": [
    "# Initialize the Random Forest Classifier\n",
    "rf_model = RandomForestClassifier(random_state=42)\n",
    "\n",
    "# Train the model\n",
    "rf_model.fit(X_train, y_train)\n",
    "\n",
    "# Predictions on the validation set\n",
    "y_val_pred = rf_model.predict(X_val)"
   ]
  },
  {
   "cell_type": "code",
   "execution_count": 10,
   "id": "816af200",
   "metadata": {},
   "outputs": [
    {
     "name": "stdout",
     "output_type": "stream",
     "text": [
      "Accuracy: 0.9906692406692407\n",
      "Precision: 0.7027027027027027\n",
      "Recall: 0.2549019607843137\n",
      "F1 Score: 0.3741007194244604\n"
     ]
    }
   ],
   "source": [
    "# Evaluate the model's performance\n",
    "accuracy = accuracy_score(y_val, y_val_pred)\n",
    "precision = precision_score(y_val, y_val_pred)\n",
    "recall = recall_score(y_val, y_val_pred)\n",
    "f1 = f1_score(y_val, y_val_pred)\n",
    "\n",
    "print(f\"Accuracy: {accuracy}\")\n",
    "print(f\"Precision: {precision}\")\n",
    "print(f\"Recall: {recall}\")\n",
    "print(f\"F1 Score: {f1}\")"
   ]
  },
  {
   "cell_type": "code",
   "execution_count": 11,
   "id": "1468b2d9",
   "metadata": {},
   "outputs": [],
   "source": [
    "y_test_prob = rf_model.predict_proba(X_test_scaled)[:, 1] \n",
    "\n",
    "y_test_prob_rounded = np.round(y_test_prob, 1)\n",
    "\n",
    "submission = pd.DataFrame({'player_id': test_data['player_id'], 'draft_probability': y_test_prob_rounded})\n",
    "submission.to_csv('C:\\\\Users\\\\13803\\\\Downloads\\\\uts-36120-2024-spr\\\\sample_submission.csv', index=False)"
   ]
  }
 ],
 "metadata": {
  "kernelspec": {
   "display_name": "Python 3 (ipykernel)",
   "language": "python",
   "name": "python3"
  },
  "language_info": {
   "codemirror_mode": {
    "name": "ipython",
    "version": 3
   },
   "file_extension": ".py",
   "mimetype": "text/x-python",
   "name": "python",
   "nbconvert_exporter": "python",
   "pygments_lexer": "ipython3",
   "version": "3.9.18"
  }
 },
 "nbformat": 4,
 "nbformat_minor": 5
}
